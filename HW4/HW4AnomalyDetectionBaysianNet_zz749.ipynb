{
 "cells": [
  {
   "cell_type": "markdown",
   "metadata": {},
   "source": [
    "## MLC HW 4\n",
    "\n",
    "### Question 1 (40 points)\n",
    "\n",
    "In this question, you will model traffic counts in Pittsburgh using Gaussian process (GP) regression.  The included dataset, \"PittsburghTrafficCounts.csv\", represents the average daily traffic counts computed by traffic sensors at over 1,100 locations in Allegheny County, PA.  The data was collected from years 2012-2014 and compiled by Carnegie Mellon University’s Traffic21 Institute; we have the longitude, latitude, and average daily count for each sensor.  \n",
    "\n",
    "Given this dataset, your goal is to learn a model of traffic count as a function of spatial location.  To do so, fit a Gaussian Process regression model to the observed data.  While you can decide on the precise kernel specification, you should try to achieve a good model fit, as quantified by a log marginal likelihood value greater than (i.e., less negative than) -1400.  Here are some hints for getting a good model fit:\n",
    "\n",
    "* We recommend that you take the logarithm of the traffic counts, and then subtract the mean of this vector, before fitting the model.\n",
    "\n",
    "* Since the data is noisy, don't forget to include a noise term (WhiteKernel) in your model.\n",
    "\n",
    "* When fitting a GP with RBF kernel on multidimensional data, you can learn a separate length scale for each dimension, e.g., length_scale=(length_scale_x, length_scale_y). \n",
    "\n",
    "Your Python code should provide the following five outputs:\n",
    "\n",
    "1) The kernel after parameter optimization and fitting to the observed data. (10 pts)\n",
    "\n",
    "2) The log marginal likelihood of the training data. (5 pts)\n",
    "\n",
    "3) Show a 2-D plot of the model's predictions over a mesh grid of longitude/latitude (with color corresponding to the model's predictions) and overlay a 2-D scatter plot of sensor locations (with color corresponding to the observed values). (10 pts)\n",
    "\n",
    "4) What percentage of sensors have average traffic counts more than two standard deviations higher or lower than the model predicts given their spatial location? (5 pts)\n",
    "\n",
    "5) Show a 2-D scatter plot of the sensor locations, with three colors corresponding to observed values a) more than two standard deviations higher than predicted, b) more then two standard deviations lower than predicted, and c) within two standard deviations of the predicted values. (10 pts)\n"
   ]
  },
  {
   "cell_type": "code",
   "execution_count": 295,
   "metadata": {
    "ExecuteTime": {
     "end_time": "2018-04-22T23:35:55.165000Z",
     "start_time": "2018-04-22T23:35:55.127000Z"
    }
   },
   "outputs": [
    {
     "name": "stdout",
     "output_type": "stream",
     "text": [
      "Populating the interactive namespace from numpy and matplotlib\n"
     ]
    }
   ],
   "source": [
    "from sklearn.gaussian_process.kernels import RBF, ConstantKernel,WhiteKernel,RationalQuadratic,Exponentiation,ExpSineSquared,Matern, PairwiseKernel, RationalQuadratic, DotProduct\n",
    "from matplotlib import pyplot as plt\n",
    "from sklearn.gaussian_process import GaussianProcessRegressor\n",
    "%pylab inline\n",
    "import seaborn as sns\n",
    "from pgmpy.estimators import HillClimbSearch, BicScore\n",
    "from pgmpy.models import BayesianModel\n",
    "from pgmpy.estimators import BayesianEstimator, MaximumLikelihoodEstimator\n",
    "from sklearn.cluster import KMeans\n",
    "from sklearn.mixture import GaussianMixture"
   ]
  },
  {
   "cell_type": "code",
   "execution_count": 10,
   "metadata": {
    "ExecuteTime": {
     "end_time": "2018-04-22T20:32:15.259000Z",
     "start_time": "2018-04-22T20:32:15.193000Z"
    }
   },
   "outputs": [
    {
     "data": {
      "text/html": [
       "<div>\n",
       "<table border=\"1\" class=\"dataframe\">\n",
       "  <thead>\n",
       "    <tr style=\"text-align: right;\">\n",
       "      <th></th>\n",
       "      <th>Longitude</th>\n",
       "      <th>Latitude</th>\n",
       "      <th>AvgDailyTrafficCount</th>\n",
       "    </tr>\n",
       "  </thead>\n",
       "  <tbody>\n",
       "    <tr>\n",
       "      <th>0</th>\n",
       "      <td>-80.278366</td>\n",
       "      <td>40.468606</td>\n",
       "      <td>84.0</td>\n",
       "    </tr>\n",
       "    <tr>\n",
       "      <th>1</th>\n",
       "      <td>-80.162117</td>\n",
       "      <td>40.384598</td>\n",
       "      <td>95.0</td>\n",
       "    </tr>\n",
       "    <tr>\n",
       "      <th>2</th>\n",
       "      <td>-80.221205</td>\n",
       "      <td>40.366778</td>\n",
       "      <td>97.0</td>\n",
       "    </tr>\n",
       "    <tr>\n",
       "      <th>3</th>\n",
       "      <td>-80.142455</td>\n",
       "      <td>40.622084</td>\n",
       "      <td>111.0</td>\n",
       "    </tr>\n",
       "    <tr>\n",
       "      <th>4</th>\n",
       "      <td>-80.131975</td>\n",
       "      <td>40.544915</td>\n",
       "      <td>125.0</td>\n",
       "    </tr>\n",
       "  </tbody>\n",
       "</table>\n",
       "</div>"
      ],
      "text/plain": [
       "   Longitude   Latitude  AvgDailyTrafficCount\n",
       "0 -80.278366  40.468606                  84.0\n",
       "1 -80.162117  40.384598                  95.0\n",
       "2 -80.221205  40.366778                  97.0\n",
       "3 -80.142455  40.622084                 111.0\n",
       "4 -80.131975  40.544915                 125.0"
      ]
     },
     "execution_count": 10,
     "metadata": {},
     "output_type": "execute_result"
    }
   ],
   "source": [
    "import pandas as pd\n",
    "import numpy as np\n",
    "Data1=pd.read_csv(\"PittsburghTrafficCounts.csv\")\n",
    "Data1.head()"
   ]
  },
  {
   "cell_type": "code",
   "execution_count": 11,
   "metadata": {
    "ExecuteTime": {
     "end_time": "2018-04-22T20:32:15.957000Z",
     "start_time": "2018-04-22T20:32:15.950000Z"
    },
    "collapsed": true
   },
   "outputs": [],
   "source": [
    "Data1['AvgDailyTrafficCount'] = np.log(Data1['AvgDailyTrafficCount'])"
   ]
  },
  {
   "cell_type": "code",
   "execution_count": 12,
   "metadata": {
    "ExecuteTime": {
     "end_time": "2018-04-22T20:32:16.296000Z",
     "start_time": "2018-04-22T20:32:16.290000Z"
    },
    "collapsed": true
   },
   "outputs": [],
   "source": [
    "Data1['AvgDailyTrafficCount'] -= Data1['AvgDailyTrafficCount'].mean()"
   ]
  },
  {
   "cell_type": "code",
   "execution_count": 13,
   "metadata": {
    "ExecuteTime": {
     "end_time": "2018-04-22T20:32:16.741000Z",
     "start_time": "2018-04-22T20:32:16.727000Z"
    },
    "collapsed": true
   },
   "outputs": [],
   "source": [
    "X = np.array(Data1.drop('AvgDailyTrafficCount',1))\n",
    "y = Data1.AvgDailyTrafficCount.values.reshape(-1,1)"
   ]
  },
  {
   "cell_type": "code",
   "execution_count": 14,
   "metadata": {
    "ExecuteTime": {
     "end_time": "2018-04-22T20:32:44.723000Z",
     "start_time": "2018-04-22T20:32:17.537000Z"
    },
    "scrolled": false
   },
   "outputs": [
    {
     "name": "stdout",
     "output_type": "stream",
     "text": [
      "-1363.84361182\n",
      "0.647**2 * RBF(length_scale=[0.0323, 0.0393]) + WhiteKernel(noise_level=0.568) + 0.179**2\n"
     ]
    }
   ],
   "source": [
    "kernel = 0.1**2* RBF(length_scale=(0.01, 0.01), length_scale_bounds=(1e-3, 1e3)) \\\n",
    "    + WhiteKernel(noise_level=0.1**2,noise_level_bounds=(1e-10, 1e10)) + 1e-2 \n",
    "\n",
    "gp = GaussianProcessRegressor(kernel=kernel,random_state=1)\n",
    "\n",
    "# Fit to data using Maximum Likelihood Estimation of the parameters\n",
    "gp.fit(X, y)\n",
    "y_pred, sigma = gp.predict(X, return_std=True)\n",
    "\n",
    "print gp.log_marginal_likelihood_value_\n",
    "print gp.kernel_"
   ]
  },
  {
   "cell_type": "code",
   "execution_count": 101,
   "metadata": {
    "ExecuteTime": {
     "end_time": "2018-04-22T21:39:50.035000Z",
     "start_time": "2018-04-22T21:39:49.325000Z"
    },
    "scrolled": false
   },
   "outputs": [
    {
     "data": {
      "image/png": "[encoded data removed]",
      "text/plain": [
       "<matplotlib.figure.Figure at 0x1cc029e8>"
      ]
     },
     "metadata": {},
     "output_type": "display_data"
    }
   ],
   "source": [
    "# create a mesh to plot in\n",
    "x_min, x_max = X[:, 0].min() - 0.05, X[:, 0].max() + 0.05\n",
    "y_min, y_max = X[:, 1].min() - 0.05, X[:, 1].max() + 0.05\n",
    "\n",
    "h = .02  # step size in the mesh\n",
    "\n",
    "xx, yy = np.meshgrid(np.arange(x_min, x_max, h),\n",
    "                     np.arange(y_min, y_max, h))\n",
    "\n",
    "plt.figure(figsize=(15, 15))\n",
    "    # Plot the predicted probabilities. For that, we will assign a color to\n",
    "    # each point in the mesh [x_min, m_max]x[y_min, y_max].\n",
    "Z = gp.predict(np.c_[xx.ravel(), yy.ravel()])\n",
    "# Put the result into a color plot\n",
    "Z = Z.reshape((xx.shape[0], xx.shape[1]))\n",
    "plt.imshow(Z, extent=(x_min, x_max, y_min, y_max), origin=\"lower\")\n",
    "plt.colorbar()\n",
    "\n",
    "# Plot also the training points\n",
    "plt.scatter(X[:, 0], X[:, 1], c=np.squeeze(y))\n",
    "plt.xlabel('Sepal length')\n",
    "plt.ylabel('Sepal width')\n",
    "plt.xticks(())\n",
    "plt.yticks(())\n",
    "plt.title(\"%s, LML: %.3f\" %\n",
    "          (\"RBF\", gp.log_marginal_likelihood(gp.kernel_.theta)))\n",
    "\n",
    "plt.tight_layout()\n",
    "plt.show()"
   ]
  },
  {
   "cell_type": "code",
   "execution_count": 20,
   "metadata": {
    "ExecuteTime": {
     "end_time": "2018-04-22T20:35:12.563000Z",
     "start_time": "2018-04-22T20:35:12.412000Z"
    }
   },
   "outputs": [],
   "source": [
    "Data1['Predict'] = np.squeeze(gp.predict(X))"
   ]
  },
  {
   "cell_type": "code",
   "execution_count": 287,
   "metadata": {
    "ExecuteTime": {
     "end_time": "2018-04-22T23:31:24.172000Z",
     "start_time": "2018-04-22T23:31:24.165000Z"
    }
   },
   "outputs": [
    {
     "name": "stdout",
     "output_type": "stream",
     "text": [
      "0.117488789238% of sensors have average traffic counts more than two standard deviations higher or lower than the model predicts given their spatial location\n"
     ]
    }
   ],
   "source": [
    "print('{}% of sensors have average traffic counts more than two standard deviations higher or lower than the model predicts given their spatial location'.format(len(Data1[(Data1['AvgDailyTrafficCount']>(Data1['Predict']+2*Data1['Predict'].std()))|(Data1['AvgDailyTrafficCount']<(Data1['Predict']-2*Data1['Predict'].std()))])/float(len(Data1))))"
   ]
  },
  {
   "cell_type": "code",
   "execution_count": 80,
   "metadata": {
    "ExecuteTime": {
     "end_time": "2018-04-22T21:12:43.156000Z",
     "start_time": "2018-04-22T21:12:42.917000Z"
    }
   },
   "outputs": [
    {
     "name": "stderr",
     "output_type": "stream",
     "text": [
      "C:\\Users\\Administrator\\Anaconda2\\lib\\site-packages\\ipykernel_launcher.py:1: SettingWithCopyWarning: \n",
      "A value is trying to be set on a copy of a slice from a DataFrame\n",
      "\n",
      "See the caveats in the documentation: http://pandas.pydata.org/pandas-docs/stable/indexing.html#indexing-view-versus-copy\n",
      "  \"\"\"Entry point for launching an IPython kernel.\n",
      "C:\\Users\\Administrator\\Anaconda2\\lib\\site-packages\\ipykernel_launcher.py:2: SettingWithCopyWarning: \n",
      "A value is trying to be set on a copy of a slice from a DataFrame\n",
      "\n",
      "See the caveats in the documentation: http://pandas.pydata.org/pandas-docs/stable/indexing.html#indexing-view-versus-copy\n",
      "  \n",
      "C:\\Users\\Administrator\\Anaconda2\\lib\\site-packages\\ipykernel_launcher.py:3: SettingWithCopyWarning: \n",
      "A value is trying to be set on a copy of a slice from a DataFrame\n",
      "\n",
      "See the caveats in the documentation: http://pandas.pydata.org/pandas-docs/stable/indexing.html#indexing-view-versus-copy\n",
      "  This is separate from the ipykernel package so we can avoid doing imports until\n"
     ]
    }
   ],
   "source": [
    "Data1['label'][Data1[Data1['AvgDailyTrafficCount']>(Data1['Predict']+2*Data1['Predict'].std())].index] = 'more than two standard deviations higher than predicted'\n",
    "Data1['label'][Data1[(Data1['AvgDailyTrafficCount']<(Data1['Predict']+2*Data1['Predict'].std()))&(Data1['AvgDailyTrafficCount']>(Data1['Predict']-2*Data1['Predict'].std()))].index] = 'within two standard deviations of the predicted values'\n",
    "Data1['label'][Data1[Data1['AvgDailyTrafficCount']<(Data1['Predict']-2*Data1['Predict'].std())].index] = 'more then two standard deviations lower than predicted'                                                               "
   ]
  },
  {
   "cell_type": "code",
   "execution_count": 332,
   "metadata": {
    "ExecuteTime": {
     "end_time": "2018-04-22T23:54:42.083000Z",
     "start_time": "2018-04-22T23:54:41.617000Z"
    }
   },
   "outputs": [
    {
     "data": {
      "text/plain": [
       "<seaborn.axisgrid.PairGrid at 0x1d36aac8>"
      ]
     },
     "execution_count": 332,
     "metadata": {},
     "output_type": "execute_result"
    },
    {
     "data": {
      "image/png": "[encoded data removed]",
      "text/plain": [
       "<matplotlib.figure.Figure at 0x1d36a208>"
      ]
     },
     "metadata": {},
     "output_type": "display_data"
    }
   ],
   "source": [
    "sns.pairplot(x_vars=['Longitude'], y_vars=['Latitude'], data=Data1, hue=\"label\", size=15)"
   ]
  },
  {
   "cell_type": "markdown",
   "metadata": {
    "collapsed": true
   },
   "source": [
    "### Question 2: Cluster-based anomaly detection (10 points)\n",
    "\n",
    "Given an unlabeled dataset with two real-valued attributes, we perform cluster-based anomaly detection by running k-means, choosing the number of clusters k automatically using the Schwarz criterion.  Four clusters are formed:\n",
    "\n",
    "A: 100 points, center (0, 0), standard deviation 0.1\n",
    "\n",
    "B: 150 points, center (35, 5), standard deviation 5\n",
    "\n",
    "C: 2 points, center (15, 20), standard deviation 1\n",
    "\n",
    "D: 200 points, center (10, 10), standard deviation 1\n",
    "\n",
    "Given the four points below, which of these points are, and are not, likely to be anomalies?  Choose “Anomaly” or “Not Anomaly”, and provide a brief explanation, for each point. \n",
    "(Hint: your answers should take into account the size and standard deviation of each cluster as well as the distances to cluster centers.)\n",
    "\n",
    "(1, 0)\t\tAnomaly / Not Anomaly\n",
    "\n",
    "\n",
    "(35, 2)\t\tAnomaly / Not Anomaly\n",
    "\n",
    "\n",
    "(15, 19)\tAnomaly / Not Anomaly\n",
    "\n",
    "\n",
    "(10, 11)\tAnomaly / Not Anomaly\n"
   ]
  },
  {
   "cell_type": "markdown",
   "metadata": {},
   "source": [
    "### Since the dataset is not claimed to be clean and there are only two points in C, which is smaller than the number of clusters 4, then the cluster C itself could be regarded as an anomaly "
   ]
  },
  {
   "cell_type": "code",
   "execution_count": 140,
   "metadata": {
    "ExecuteTime": {
     "end_time": "2018-04-22T22:22:42.588000Z",
     "start_time": "2018-04-22T22:22:42.583000Z"
    },
    "collapsed": true
   },
   "outputs": [],
   "source": [
    "def dis(p1,p2):\n",
    "    return ((p1[0]-p2[0])**2 + (p1[1]-p2[1])**2)**0.5"
   ]
  },
  {
   "cell_type": "code",
   "execution_count": 146,
   "metadata": {
    "ExecuteTime": {
     "end_time": "2018-04-22T22:23:59.684000Z",
     "start_time": "2018-04-22T22:23:59.674000Z"
    }
   },
   "outputs": [],
   "source": [
    "def get_matrix(points,centers,std):\n",
    "    data = pd.DataFrame(np.zeros([len(points),len(centers)]))\n",
    "    for i in range(len(points)):\n",
    "        for j in range(len(centers)):\n",
    "            data.iloc[i,j] = dis(points[i],centers[j])\n",
    "    data['cluster'] = np.argmin(np.array(data),1)\n",
    "    data['inside'] = 0\n",
    "    for i in range(len(points)):\n",
    "        data['inside'][i] = True if data.iloc[i,data['cluster'][i]] <= std[data['cluster'][i]] else False\n",
    "    return data"
   ]
  },
  {
   "cell_type": "code",
   "execution_count": 147,
   "metadata": {
    "ExecuteTime": {
     "end_time": "2018-04-22T22:24:00.552000Z",
     "start_time": "2018-04-22T22:24:00.541000Z"
    },
    "collapsed": true
   },
   "outputs": [],
   "source": [
    "a = np.array([1,0])\n",
    "b = np.array([35,2])\n",
    "c = np.array([15,19])\n",
    "d = np.array([10,11])\n",
    "C1 = np.array([0,0])\n",
    "C2 = np.array([35,5])\n",
    "C4 = np.array([10,10])\n",
    "points = [a,b,c,d]\n",
    "centers = [C1,C2,C4]\n",
    "std = [0.1,5,1]"
   ]
  },
  {
   "cell_type": "code",
   "execution_count": 149,
   "metadata": {
    "ExecuteTime": {
     "end_time": "2018-04-22T22:24:02.919000Z",
     "start_time": "2018-04-22T22:24:02.471000Z"
    }
   },
   "outputs": [
    {
     "name": "stderr",
     "output_type": "stream",
     "text": [
      "C:\\Users\\Administrator\\Anaconda2\\lib\\site-packages\\ipykernel_launcher.py:9: SettingWithCopyWarning: \n",
      "A value is trying to be set on a copy of a slice from a DataFrame\n",
      "\n",
      "See the caveats in the documentation: http://pandas.pydata.org/pandas-docs/stable/indexing.html#indexing-view-versus-copy\n",
      "  if __name__ == '__main__':\n"
     ]
    },
    {
     "data": {
      "text/html": [
       "<div>\n",
       "<table border=\"1\" class=\"dataframe\">\n",
       "  <thead>\n",
       "    <tr style=\"text-align: right;\">\n",
       "      <th></th>\n",
       "      <th>0</th>\n",
       "      <th>1</th>\n",
       "      <th>2</th>\n",
       "      <th>cluster</th>\n",
       "      <th>inside</th>\n",
       "    </tr>\n",
       "  </thead>\n",
       "  <tbody>\n",
       "    <tr>\n",
       "      <th>0</th>\n",
       "      <td>1.000000</td>\n",
       "      <td>34.365681</td>\n",
       "      <td>13.453624</td>\n",
       "      <td>0</td>\n",
       "      <td>0</td>\n",
       "    </tr>\n",
       "    <tr>\n",
       "      <th>1</th>\n",
       "      <td>35.057096</td>\n",
       "      <td>3.000000</td>\n",
       "      <td>26.248809</td>\n",
       "      <td>1</td>\n",
       "      <td>1</td>\n",
       "    </tr>\n",
       "    <tr>\n",
       "      <th>2</th>\n",
       "      <td>24.207437</td>\n",
       "      <td>24.413111</td>\n",
       "      <td>10.295630</td>\n",
       "      <td>2</td>\n",
       "      <td>0</td>\n",
       "    </tr>\n",
       "    <tr>\n",
       "      <th>3</th>\n",
       "      <td>14.866069</td>\n",
       "      <td>25.709920</td>\n",
       "      <td>1.000000</td>\n",
       "      <td>2</td>\n",
       "      <td>1</td>\n",
       "    </tr>\n",
       "  </tbody>\n",
       "</table>\n",
       "</div>"
      ],
      "text/plain": [
       "           0          1          2  cluster  inside\n",
       "0   1.000000  34.365681  13.453624        0       0\n",
       "1  35.057096   3.000000  26.248809        1       1\n",
       "2  24.207437  24.413111  10.295630        2       0\n",
       "3  14.866069  25.709920   1.000000        2       1"
      ]
     },
     "execution_count": 149,
     "metadata": {},
     "output_type": "execute_result"
    }
   ],
   "source": [
    "get_matrix(points,centers,std)"
   ]
  },
  {
   "cell_type": "markdown",
   "metadata": {},
   "source": [
    "(1, 0)\t\tAnomaly\n",
    "\n",
    "\n",
    "(35, 2)\t\tNot Anomaly \n",
    "\n",
    "\n",
    "(15, 19)\tAnomaly\n",
    "\n",
    "\n",
    "(10, 11)\tNot Anomaly "
   ]
  },
  {
   "cell_type": "markdown",
   "metadata": {},
   "source": [
    "### Question 3: Anomaly detection (50 points)\n",
    "\n",
    "For this question, use the \"County Health Indicators\" dataset provided to identify the most anomalous counties. Please list the top 5 most anomalous counties computed using each of the following models.  (We recommend that, as a pre-processing step, you drop na values, and make sure all numeric values are treated as floats not strings.)\n",
    "\n",
    "Part 1: Learn a Bayesian network structure using only the six features [\"'\\% Smokers'\",\"'\\% Obese'\",\"'Violent Crime Rate'\",\"'80/20 Income Ratio'\",\"'\\% Children in Poverty'\",\"'Average Daily PM2.5'\"].  Use pd.cut() to discretize each feature into 5 categories: 0,1,2,3,4. \n",
    "\n",
    "(a) Use HillClimbSearch and BicScore to learn the Bayesian network structure (5 pts) \n",
    "\n",
    "(b) Which 5 counties have the lowest (most negative) log-likelihood values? Please show a ranked list of the top counties' names and log-likelihood values. (10 pts)\n",
    "\n",
    "Part 2: Cluster based anomaly detection.  Use all numeric features for this part, and do not discretize. \n",
    "\n",
    "(a) Clustering with k-means. Please use k=3 clusters. Compute each record's distance to the nearest cluster center and report the five counties which have the longest distances. (10 pts)\n",
    "\n",
    "(b) Cluster with Gaussian Mixture. Please repeat (2)a but use log-likelihood for each record (rather than distance) as the measure of anomalousness. (10 pts)\n",
    "\n",
    "Part 3: Choose one more anomaly detection model you prefer and report the top 5 most anomalous counties by the model you chose.  (10 pts)\n",
    "\n",
    "Part 4: Compare and contrast the results from the different models.  Were there some counties that were found to be anomalous in some models and not in others?  Please provide some intuitions on why each county was found to be anomalous. (5 pts)"
   ]
  },
  {
   "cell_type": "code",
   "execution_count": 425,
   "metadata": {
    "ExecuteTime": {
     "end_time": "2018-04-23T03:34:53.064000Z",
     "start_time": "2018-04-23T03:34:52.989000Z"
    }
   },
   "outputs": [
    {
     "data": {
      "text/html": [
       "<div>\n",
       "<table border=\"1\" class=\"dataframe\">\n",
       "  <thead>\n",
       "    <tr style=\"text-align: right;\">\n",
       "      <th></th>\n",
       "      <th>County</th>\n",
       "      <th>'\\% Reporting Fair/Poor Health'</th>\n",
       "      <th>'Physically Unhealthy Days Per Month'</th>\n",
       "      <th>'Mentally Unhealthy Days Per Month'</th>\n",
       "      <th>'\\% Low birth weight births'</th>\n",
       "      <th>'\\% Smokers'</th>\n",
       "      <th>'\\% Obese'</th>\n",
       "      <th>'Food Environment Index'</th>\n",
       "      <th>'\\% Physically Inactive'</th>\n",
       "      <th>'\\% With Access To Exercise'</th>\n",
       "      <th>...</th>\n",
       "      <th>'\\% Children in Poverty'</th>\n",
       "      <th>'80/20 Income Ratio'</th>\n",
       "      <th>'\\% Single-Parent Households'</th>\n",
       "      <th>'Association Rate'</th>\n",
       "      <th>'Violent Crime Rate'</th>\n",
       "      <th>'Injury Death Rate'</th>\n",
       "      <th>'Average Daily PM2.5'</th>\n",
       "      <th>'\\% Severe Housing Problems'</th>\n",
       "      <th>'\\% Drive Alone'</th>\n",
       "      <th>'\\% Long Commute - Drives Alone'</th>\n",
       "    </tr>\n",
       "  </thead>\n",
       "  <tbody>\n",
       "    <tr>\n",
       "      <th>0</th>\n",
       "      <td>Autauga, Alabama</td>\n",
       "      <td>19</td>\n",
       "      <td>4.4</td>\n",
       "      <td>4.3</td>\n",
       "      <td>9</td>\n",
       "      <td>19</td>\n",
       "      <td>31</td>\n",
       "      <td>7.1</td>\n",
       "      <td>29</td>\n",
       "      <td>71</td>\n",
       "      <td>...</td>\n",
       "      <td>18</td>\n",
       "      <td>4.3</td>\n",
       "      <td>27</td>\n",
       "      <td>13.8</td>\n",
       "      <td>254</td>\n",
       "      <td>76</td>\n",
       "      <td>12.9</td>\n",
       "      <td>14</td>\n",
       "      <td>89</td>\n",
       "      <td>42</td>\n",
       "    </tr>\n",
       "    <tr>\n",
       "      <th>1</th>\n",
       "      <td>Baldwin, Alabama</td>\n",
       "      <td>16</td>\n",
       "      <td>4.1</td>\n",
       "      <td>4.2</td>\n",
       "      <td>9</td>\n",
       "      <td>19</td>\n",
       "      <td>27</td>\n",
       "      <td>7.6</td>\n",
       "      <td>25</td>\n",
       "      <td>72</td>\n",
       "      <td>...</td>\n",
       "      <td>20</td>\n",
       "      <td>4.5</td>\n",
       "      <td>28</td>\n",
       "      <td>12.0</td>\n",
       "      <td>221</td>\n",
       "      <td>70</td>\n",
       "      <td>13.1</td>\n",
       "      <td>15</td>\n",
       "      <td>84</td>\n",
       "      <td>37</td>\n",
       "    </tr>\n",
       "    <tr>\n",
       "      <th>2</th>\n",
       "      <td>Barbour, Alabama</td>\n",
       "      <td>26</td>\n",
       "      <td>4.9</td>\n",
       "      <td>4.7</td>\n",
       "      <td>12</td>\n",
       "      <td>21</td>\n",
       "      <td>41</td>\n",
       "      <td>5.1</td>\n",
       "      <td>33</td>\n",
       "      <td>45</td>\n",
       "      <td>...</td>\n",
       "      <td>38</td>\n",
       "      <td>5.3</td>\n",
       "      <td>54</td>\n",
       "      <td>8.1</td>\n",
       "      <td>147</td>\n",
       "      <td>64</td>\n",
       "      <td>12.6</td>\n",
       "      <td>18</td>\n",
       "      <td>84</td>\n",
       "      <td>35</td>\n",
       "    </tr>\n",
       "    <tr>\n",
       "      <th>3</th>\n",
       "      <td>Bibb, Alabama</td>\n",
       "      <td>22</td>\n",
       "      <td>4.8</td>\n",
       "      <td>4.6</td>\n",
       "      <td>12</td>\n",
       "      <td>21</td>\n",
       "      <td>40</td>\n",
       "      <td>7.4</td>\n",
       "      <td>33</td>\n",
       "      <td>33</td>\n",
       "      <td>...</td>\n",
       "      <td>27</td>\n",
       "      <td>4.3</td>\n",
       "      <td>32</td>\n",
       "      <td>9.8</td>\n",
       "      <td>236</td>\n",
       "      <td>75</td>\n",
       "      <td>12.9</td>\n",
       "      <td>13</td>\n",
       "      <td>84</td>\n",
       "      <td>46</td>\n",
       "    </tr>\n",
       "    <tr>\n",
       "      <th>4</th>\n",
       "      <td>Blount, Alabama</td>\n",
       "      <td>21</td>\n",
       "      <td>4.6</td>\n",
       "      <td>4.5</td>\n",
       "      <td>7</td>\n",
       "      <td>19</td>\n",
       "      <td>32</td>\n",
       "      <td>8.3</td>\n",
       "      <td>29</td>\n",
       "      <td>26</td>\n",
       "      <td>...</td>\n",
       "      <td>24</td>\n",
       "      <td>4.1</td>\n",
       "      <td>28</td>\n",
       "      <td>8.5</td>\n",
       "      <td>219</td>\n",
       "      <td>89</td>\n",
       "      <td>12.7</td>\n",
       "      <td>12</td>\n",
       "      <td>85</td>\n",
       "      <td>59</td>\n",
       "    </tr>\n",
       "  </tbody>\n",
       "</table>\n",
       "<p>5 rows × 31 columns</p>\n",
       "</div>"
      ],
      "text/plain": [
       "             County '\\% Reporting Fair/Poor Health'  \\\n",
       "0  Autauga, Alabama                              19   \n",
       "1  Baldwin, Alabama                              16   \n",
       "2  Barbour, Alabama                              26   \n",
       "3     Bibb, Alabama                              22   \n",
       "4   Blount, Alabama                              21   \n",
       "\n",
       "  'Physically Unhealthy Days Per Month' 'Mentally Unhealthy Days Per Month'  \\\n",
       "0                                   4.4                                 4.3   \n",
       "1                                   4.1                                 4.2   \n",
       "2                                   4.9                                 4.7   \n",
       "3                                   4.8                                 4.6   \n",
       "4                                   4.6                                 4.5   \n",
       "\n",
       "  '\\% Low birth weight births' '\\% Smokers'  '\\% Obese'  \\\n",
       "0                            9           19          31   \n",
       "1                            9           19          27   \n",
       "2                           12           21          41   \n",
       "3                           12           21          40   \n",
       "4                            7           19          32   \n",
       "\n",
       "   'Food Environment Index'  '\\% Physically Inactive'  \\\n",
       "0                       7.1                        29   \n",
       "1                       7.6                        25   \n",
       "2                       5.1                        33   \n",
       "3                       7.4                        33   \n",
       "4                       8.3                        29   \n",
       "\n",
       "  '\\% With Access To Exercise'               ...                 \\\n",
       "0                           71               ...                  \n",
       "1                           72               ...                  \n",
       "2                           45               ...                  \n",
       "3                           33               ...                  \n",
       "4                           26               ...                  \n",
       "\n",
       "  '\\% Children in Poverty' '80/20 Income Ratio' '\\% Single-Parent Households'  \\\n",
       "0                       18                  4.3                            27   \n",
       "1                       20                  4.5                            28   \n",
       "2                       38                  5.3                            54   \n",
       "3                       27                  4.3                            32   \n",
       "4                       24                  4.1                            28   \n",
       "\n",
       "  'Association Rate' 'Violent Crime Rate' 'Injury Death Rate'  \\\n",
       "0               13.8                  254                  76   \n",
       "1               12.0                  221                  70   \n",
       "2                8.1                  147                  64   \n",
       "3                9.8                  236                  75   \n",
       "4                8.5                  219                  89   \n",
       "\n",
       "  'Average Daily PM2.5' '\\% Severe Housing Problems' '\\% Drive Alone'  \\\n",
       "0                  12.9                           14               89   \n",
       "1                  13.1                           15               84   \n",
       "2                  12.6                           18               84   \n",
       "3                  12.9                           13               84   \n",
       "4                  12.7                           12               85   \n",
       "\n",
       "  '\\% Long Commute - Drives Alone'  \n",
       "0                               42  \n",
       "1                               37  \n",
       "2                               35  \n",
       "3                               46  \n",
       "4                               59  \n",
       "\n",
       "[5 rows x 31 columns]"
      ]
     },
     "execution_count": 425,
     "metadata": {},
     "output_type": "execute_result"
    }
   ],
   "source": [
    "Data2=pd.read_csv(\"2016CountyHealthIndicators.csv\")\n",
    "Data2.head()"
   ]
  },
  {
   "cell_type": "code",
   "execution_count": 426,
   "metadata": {
    "ExecuteTime": {
     "end_time": "2018-04-23T03:34:53.839000Z",
     "start_time": "2018-04-23T03:34:53.762000Z"
    },
    "scrolled": true
   },
   "outputs": [],
   "source": [
    "# your code here\n",
    "for col in Data2.columns[1:]:\n",
    "    Data2[col] = pd.to_numeric(Data2[col],errors='coerce',downcast='float')"
   ]
  },
  {
   "cell_type": "code",
   "execution_count": 427,
   "metadata": {
    "ExecuteTime": {
     "end_time": "2018-04-23T03:34:54.516000Z",
     "start_time": "2018-04-23T03:34:54.500000Z"
    }
   },
   "outputs": [],
   "source": [
    "Data2 = Data2.dropna()"
   ]
  },
  {
   "cell_type": "markdown",
   "metadata": {},
   "source": [
    "## Part1"
   ]
  },
  {
   "cell_type": "code",
   "execution_count": 428,
   "metadata": {
    "ExecuteTime": {
     "end_time": "2018-04-23T03:34:55.624000Z",
     "start_time": "2018-04-23T03:34:55.617000Z"
    }
   },
   "outputs": [],
   "source": [
    "df1 = Data2[[\"'\\% Smokers'\",\"'\\% Obese'\",\"'Violent Crime Rate'\",\"'80/20 Income Ratio'\",\"'\\% Children in Poverty'\",\"'Average Daily PM2.5'\"]]"
   ]
  },
  {
   "cell_type": "code",
   "execution_count": 429,
   "metadata": {
    "ExecuteTime": {
     "end_time": "2018-04-23T03:34:56.993000Z",
     "start_time": "2018-04-23T03:34:56.305000Z"
    },
    "scrolled": true
   },
   "outputs": [
    {
     "name": "stderr",
     "output_type": "stream",
     "text": [
      "C:\\Users\\Administrator\\Anaconda2\\lib\\site-packages\\ipykernel_launcher.py:2: SettingWithCopyWarning: \n",
      "A value is trying to be set on a copy of a slice from a DataFrame.\n",
      "Try using .loc[row_indexer,col_indexer] = value instead\n",
      "\n",
      "See the caveats in the documentation: http://pandas.pydata.org/pandas-docs/stable/indexing.html#indexing-view-versus-copy\n",
      "  \n"
     ]
    }
   ],
   "source": [
    "for col in df1.columns:\n",
    "    df1[col] = pd.cut(df1[col],5,labels=[0,1,2,3,4]).astype('int64')\n",
    "df1.columns = [x.replace('\\% ','').replace(\"'\",'').replace(' ','_') for x in df1.columns]"
   ]
  },
  {
   "cell_type": "code",
   "execution_count": 430,
   "metadata": {
    "ExecuteTime": {
     "end_time": "2018-04-23T03:35:00.200000Z",
     "start_time": "2018-04-23T03:34:57.769000Z"
    }
   },
   "outputs": [
    {
     "name": "stdout",
     "output_type": "stream",
     "text": [
      "[('Children_in_Poverty', 'Violent_Crime_Rate'), ('Children_in_Poverty', 'Smokers'), ('Smokers', 'Obese'), ('Smokers', 'Average_Daily_PM2.5'), ('80/20_Income_Ratio', 'Children_in_Poverty')]\n"
     ]
    }
   ],
   "source": [
    "hc = HillClimbSearch(df1, scoring_method=BicScore(df1))\n",
    "best_model = hc.estimate()\n",
    "print((best_model.edges()))"
   ]
  },
  {
   "cell_type": "code",
   "execution_count": 431,
   "metadata": {
    "ExecuteTime": {
     "end_time": "2018-04-23T03:35:01.012000Z",
     "start_time": "2018-04-23T03:35:00.968000Z"
    }
   },
   "outputs": [],
   "source": [
    "model = model = BayesianModel(best_model.edges())\n",
    "model.fit(df1, estimator=MaximumLikelihoodEstimator)"
   ]
  },
  {
   "cell_type": "code",
   "execution_count": 432,
   "metadata": {
    "ExecuteTime": {
     "end_time": "2018-04-23T03:35:02.971000Z",
     "start_time": "2018-04-23T03:35:02.960000Z"
    },
    "collapsed": true
   },
   "outputs": [],
   "source": [
    "# Log-likelihood of data record x given model\n",
    "def LL(x,model,verbose=False):\n",
    "    loglike = 0\n",
    "    for cpd in model.get_cpds():\n",
    "        temp_cpd = cpd.copy()\n",
    "        thevariable = temp_cpd.variable\n",
    "        theparents = model.predecessors(thevariable)\n",
    "        for parent in theparents:\n",
    "            temp_cpd.reduce([(parent, x[parent])])\n",
    "        theprob = temp_cpd.get_values()[x[thevariable],0]\n",
    "        if verbose:\n",
    "            print thevariable,theparents,theprob\n",
    "        loglike += np.log(theprob)\n",
    "    return loglike"
   ]
  },
  {
   "cell_type": "code",
   "execution_count": 433,
   "metadata": {
    "ExecuteTime": {
     "end_time": "2018-04-23T03:35:05.352000Z",
     "start_time": "2018-04-23T03:35:03.654000Z"
    },
    "collapsed": true
   },
   "outputs": [],
   "source": [
    "exmp=df1.apply(lambda x: LL(x,model),axis=1)"
   ]
  },
  {
   "cell_type": "code",
   "execution_count": 434,
   "metadata": {
    "ExecuteTime": {
     "end_time": "2018-04-23T03:35:05.858000Z",
     "start_time": "2018-04-23T03:35:05.831000Z"
    }
   },
   "outputs": [
    {
     "data": {
      "text/html": [
       "<div>\n",
       "<table border=\"1\" class=\"dataframe\">\n",
       "  <thead>\n",
       "    <tr style=\"text-align: right;\">\n",
       "      <th></th>\n",
       "      <th>County</th>\n",
       "      <th>log-likelihood</th>\n",
       "    </tr>\n",
       "  </thead>\n",
       "  <tbody>\n",
       "    <tr>\n",
       "      <th>2343</th>\n",
       "      <td>Laurens, South Carolina</td>\n",
       "      <td>-16.608495</td>\n",
       "    </tr>\n",
       "    <tr>\n",
       "      <th>277</th>\n",
       "      <td>Larimer, Colorado</td>\n",
       "      <td>-14.827149</td>\n",
       "    </tr>\n",
       "    <tr>\n",
       "      <th>2576</th>\n",
       "      <td>Dallam, Texas</td>\n",
       "      <td>-14.686742</td>\n",
       "    </tr>\n",
       "    <tr>\n",
       "      <th>1508</th>\n",
       "      <td>Crawford, Missouri</td>\n",
       "      <td>-14.457849</td>\n",
       "    </tr>\n",
       "    <tr>\n",
       "      <th>386</th>\n",
       "      <td>Atkinson, Georgia</td>\n",
       "      <td>-13.671439</td>\n",
       "    </tr>\n",
       "  </tbody>\n",
       "</table>\n",
       "</div>"
      ],
      "text/plain": [
       "                       County  log-likelihood\n",
       "2343  Laurens, South Carolina      -16.608495\n",
       "277         Larimer, Colorado      -14.827149\n",
       "2576            Dallam, Texas      -14.686742\n",
       "1508       Crawford, Missouri      -14.457849\n",
       "386         Atkinson, Georgia      -13.671439"
      ]
     },
     "execution_count": 434,
     "metadata": {},
     "output_type": "execute_result"
    }
   ],
   "source": [
    "pd.DataFrame({'County':Data2.iloc[exmp.sort_values().head().index]['County'],'log-likelihood':exmp.sort_values().head().values})"
   ]
  },
  {
   "cell_type": "code",
   "execution_count": 463,
   "metadata": {
    "ExecuteTime": {
     "end_time": "2018-04-23T03:51:33.012000Z",
     "start_time": "2018-04-23T03:51:33.004000Z"
    }
   },
   "outputs": [],
   "source": [
    "Data2['Beyas'] = list(exmp)"
   ]
  },
  {
   "cell_type": "markdown",
   "metadata": {},
   "source": [
    "## Type2"
   ]
  },
  {
   "cell_type": "code",
   "execution_count": 435,
   "metadata": {
    "ExecuteTime": {
     "end_time": "2018-04-23T03:35:07.610000Z",
     "start_time": "2018-04-23T03:35:07.419000Z"
    }
   },
   "outputs": [
    {
     "data": {
      "text/html": [
       "<div>\n",
       "<table border=\"1\" class=\"dataframe\">\n",
       "  <thead>\n",
       "    <tr style=\"text-align: right;\">\n",
       "      <th></th>\n",
       "      <th>0</th>\n",
       "      <th>1</th>\n",
       "      <th>2</th>\n",
       "    </tr>\n",
       "  </thead>\n",
       "  <tbody>\n",
       "    <tr>\n",
       "      <th>0</th>\n",
       "      <td>215.546368</td>\n",
       "      <td>554.609617</td>\n",
       "      <td>101.895485</td>\n",
       "    </tr>\n",
       "    <tr>\n",
       "      <th>1</th>\n",
       "      <td>108.370262</td>\n",
       "      <td>655.932344</td>\n",
       "      <td>186.335226</td>\n",
       "    </tr>\n",
       "    <tr>\n",
       "      <th>2</th>\n",
       "      <td>410.503731</td>\n",
       "      <td>530.643663</td>\n",
       "      <td>282.291939</td>\n",
       "    </tr>\n",
       "    <tr>\n",
       "      <th>3</th>\n",
       "      <td>168.209200</td>\n",
       "      <td>602.378878</td>\n",
       "      <td>141.457457</td>\n",
       "    </tr>\n",
       "    <tr>\n",
       "      <th>4</th>\n",
       "      <td>105.075152</td>\n",
       "      <td>777.335076</td>\n",
       "      <td>315.009861</td>\n",
       "    </tr>\n",
       "  </tbody>\n",
       "</table>\n",
       "</div>"
      ],
      "text/plain": [
       "            0           1           2\n",
       "0  215.546368  554.609617  101.895485\n",
       "1  108.370262  655.932344  186.335226\n",
       "2  410.503731  530.643663  282.291939\n",
       "3  168.209200  602.378878  141.457457\n",
       "4  105.075152  777.335076  315.009861"
      ]
     },
     "execution_count": 435,
     "metadata": {},
     "output_type": "execute_result"
    }
   ],
   "source": [
    "KM=KMeans(n_clusters=3,random_state=999)\n",
    "scor=KM.fit_predict(Data2.iloc[:,1:])\n",
    "\n",
    "# distance to each cluster center\n",
    "res=pd.DataFrame(KM.transform(Data2.iloc[:,1:]))\n",
    "res.head()"
   ]
  },
  {
   "cell_type": "code",
   "execution_count": 436,
   "metadata": {
    "ExecuteTime": {
     "end_time": "2018-04-23T03:35:09.408000Z",
     "start_time": "2018-04-23T03:35:09.180000Z"
    }
   },
   "outputs": [
    {
     "data": {
      "text/html": [
       "<div>\n",
       "<table border=\"1\" class=\"dataframe\">\n",
       "  <thead>\n",
       "    <tr style=\"text-align: right;\">\n",
       "      <th></th>\n",
       "      <th>0</th>\n",
       "      <th>1</th>\n",
       "      <th>2</th>\n",
       "      <th>cluster</th>\n",
       "      <th>score</th>\n",
       "    </tr>\n",
       "  </thead>\n",
       "  <tbody>\n",
       "    <tr>\n",
       "      <th>1890</th>\n",
       "      <td>2443.716031</td>\n",
       "      <td>1970.018443</td>\n",
       "      <td>2251.260167</td>\n",
       "      <td>1</td>\n",
       "      <td>1970.018443</td>\n",
       "    </tr>\n",
       "    <tr>\n",
       "      <th>1294</th>\n",
       "      <td>2036.147297</td>\n",
       "      <td>1332.735955</td>\n",
       "      <td>1759.249198</td>\n",
       "      <td>1</td>\n",
       "      <td>1332.735955</td>\n",
       "    </tr>\n",
       "    <tr>\n",
       "      <th>96</th>\n",
       "      <td>1917.732820</td>\n",
       "      <td>1208.900834</td>\n",
       "      <td>1639.063836</td>\n",
       "      <td>1</td>\n",
       "      <td>1208.900834</td>\n",
       "    </tr>\n",
       "    <tr>\n",
       "      <th>2304</th>\n",
       "      <td>1644.876605</td>\n",
       "      <td>1017.910163</td>\n",
       "      <td>1394.632068</td>\n",
       "      <td>1</td>\n",
       "      <td>1017.910163</td>\n",
       "    </tr>\n",
       "    <tr>\n",
       "      <th>995</th>\n",
       "      <td>1651.954082</td>\n",
       "      <td>918.374430</td>\n",
       "      <td>1366.737248</td>\n",
       "      <td>1</td>\n",
       "      <td>918.374430</td>\n",
       "    </tr>\n",
       "  </tbody>\n",
       "</table>\n",
       "</div>"
      ],
      "text/plain": [
       "                0            1            2  cluster        score\n",
       "1890  2443.716031  1970.018443  2251.260167        1  1970.018443\n",
       "1294  2036.147297  1332.735955  1759.249198        1  1332.735955\n",
       "96    1917.732820  1208.900834  1639.063836        1  1208.900834\n",
       "2304  1644.876605  1017.910163  1394.632068        1  1017.910163\n",
       "995   1651.954082   918.374430  1366.737248        1   918.374430"
      ]
     },
     "execution_count": 436,
     "metadata": {},
     "output_type": "execute_result"
    }
   ],
   "source": [
    "# add cluster and distance information for each data record\n",
    "res=pd.DataFrame(KM.transform(Data2.iloc[:,1:]))\n",
    "res=pd.concat((res,pd.DataFrame(KM.fit_predict(Data2.iloc[:,1:]))),axis=1)\n",
    "res.columns=list(range(3))+[\"cluster\"]\n",
    "res.loc[:,\"score\"]=res.apply(lambda x: x[int(x[\"cluster\"])],axis=1)\n",
    "\n",
    "# find data records farthest from cluster centers\n",
    "res.sort_values(\"score\",ascending=False)[:5]"
   ]
  },
  {
   "cell_type": "code",
   "execution_count": 439,
   "metadata": {
    "ExecuteTime": {
     "end_time": "2018-04-23T03:35:18.261000Z",
     "start_time": "2018-04-23T03:35:18.174000Z"
    }
   },
   "outputs": [],
   "source": [
    "Data2['km_score'] = list(res.score)"
   ]
  },
  {
   "cell_type": "code",
   "execution_count": 441,
   "metadata": {
    "ExecuteTime": {
     "end_time": "2018-04-23T03:35:32.028000Z",
     "start_time": "2018-04-23T03:35:31.593000Z"
    }
   },
   "outputs": [
    {
     "data": {
      "text/plain": [
       "GaussianMixture(covariance_type='full', init_params='kmeans', max_iter=100,\n",
       "        means_init=None, n_components=3, n_init=1, precisions_init=None,\n",
       "        random_state=999, reg_covar=1e-06, tol=0.001, verbose=0,\n",
       "        verbose_interval=10, warm_start=False, weights_init=None)"
      ]
     },
     "execution_count": 441,
     "metadata": {},
     "output_type": "execute_result"
    }
   ],
   "source": [
    "GM=GaussianMixture(n_components=3,random_state=999)\n",
    "GM.fit(Data2.iloc[:,1:])"
   ]
  },
  {
   "cell_type": "code",
   "execution_count": 442,
   "metadata": {
    "ExecuteTime": {
     "end_time": "2018-04-23T03:35:36.621000Z",
     "start_time": "2018-04-23T03:35:36.607000Z"
    }
   },
   "outputs": [],
   "source": [
    "Data2.insert(0,'GM',GM.score_samples(Data2.iloc[:,1:]))"
   ]
  },
  {
   "cell_type": "code",
   "execution_count": 443,
   "metadata": {
    "ExecuteTime": {
     "end_time": "2018-04-23T03:35:38.182000Z",
     "start_time": "2018-04-23T03:35:38.141000Z"
    }
   },
   "outputs": [
    {
     "data": {
      "text/html": [
       "<div>\n",
       "<table border=\"1\" class=\"dataframe\">\n",
       "  <thead>\n",
       "    <tr style=\"text-align: right;\">\n",
       "      <th></th>\n",
       "      <th>GM</th>\n",
       "      <th>County</th>\n",
       "      <th>'\\% Reporting Fair/Poor Health'</th>\n",
       "      <th>'Physically Unhealthy Days Per Month'</th>\n",
       "      <th>'Mentally Unhealthy Days Per Month'</th>\n",
       "      <th>'\\% Low birth weight births'</th>\n",
       "      <th>'\\% Smokers'</th>\n",
       "      <th>'\\% Obese'</th>\n",
       "      <th>'Food Environment Index'</th>\n",
       "      <th>'\\% Physically Inactive'</th>\n",
       "      <th>...</th>\n",
       "      <th>'80/20 Income Ratio'</th>\n",
       "      <th>'\\% Single-Parent Households'</th>\n",
       "      <th>'Association Rate'</th>\n",
       "      <th>'Violent Crime Rate'</th>\n",
       "      <th>'Injury Death Rate'</th>\n",
       "      <th>'Average Daily PM2.5'</th>\n",
       "      <th>'\\% Severe Housing Problems'</th>\n",
       "      <th>'\\% Drive Alone'</th>\n",
       "      <th>'\\% Long Commute - Drives Alone'</th>\n",
       "      <th>km_score</th>\n",
       "    </tr>\n",
       "  </thead>\n",
       "  <tbody>\n",
       "    <tr>\n",
       "      <th>2415</th>\n",
       "      <td>-213.093594</td>\n",
       "      <td>Shannon, South Dakota</td>\n",
       "      <td>33.0</td>\n",
       "      <td>5.9</td>\n",
       "      <td>4.7</td>\n",
       "      <td>7.0</td>\n",
       "      <td>41.0</td>\n",
       "      <td>45.0</td>\n",
       "      <td>1.6</td>\n",
       "      <td>24.0</td>\n",
       "      <td>...</td>\n",
       "      <td>6.5</td>\n",
       "      <td>68.0</td>\n",
       "      <td>2.8</td>\n",
       "      <td>0.0</td>\n",
       "      <td>200.0</td>\n",
       "      <td>11.8</td>\n",
       "      <td>44.0</td>\n",
       "      <td>64.0</td>\n",
       "      <td>22.0</td>\n",
       "      <td>1970.018443</td>\n",
       "    </tr>\n",
       "    <tr>\n",
       "      <th>108</th>\n",
       "      <td>-138.259208</td>\n",
       "      <td>Yuma, Arizona</td>\n",
       "      <td>24.0</td>\n",
       "      <td>4.1</td>\n",
       "      <td>3.9</td>\n",
       "      <td>6.0</td>\n",
       "      <td>15.0</td>\n",
       "      <td>30.0</td>\n",
       "      <td>5.2</td>\n",
       "      <td>28.0</td>\n",
       "      <td>...</td>\n",
       "      <td>4.1</td>\n",
       "      <td>32.0</td>\n",
       "      <td>4.3</td>\n",
       "      <td>352.0</td>\n",
       "      <td>53.0</td>\n",
       "      <td>9.9</td>\n",
       "      <td>21.0</td>\n",
       "      <td>78.0</td>\n",
       "      <td>19.0</td>\n",
       "      <td>41.494999</td>\n",
       "    </tr>\n",
       "    <tr>\n",
       "      <th>2765</th>\n",
       "      <td>-135.509295</td>\n",
       "      <td>Willacy, Texas</td>\n",
       "      <td>37.0</td>\n",
       "      <td>5.2</td>\n",
       "      <td>3.6</td>\n",
       "      <td>9.0</td>\n",
       "      <td>20.0</td>\n",
       "      <td>29.0</td>\n",
       "      <td>7.3</td>\n",
       "      <td>27.0</td>\n",
       "      <td>...</td>\n",
       "      <td>6.8</td>\n",
       "      <td>43.0</td>\n",
       "      <td>5.9</td>\n",
       "      <td>902.0</td>\n",
       "      <td>47.0</td>\n",
       "      <td>8.7</td>\n",
       "      <td>18.0</td>\n",
       "      <td>90.0</td>\n",
       "      <td>27.0</td>\n",
       "      <td>463.627032</td>\n",
       "    </tr>\n",
       "    <tr>\n",
       "      <th>94</th>\n",
       "      <td>-134.665509</td>\n",
       "      <td>Apache, Arizona</td>\n",
       "      <td>30.0</td>\n",
       "      <td>5.7</td>\n",
       "      <td>5.3</td>\n",
       "      <td>7.0</td>\n",
       "      <td>26.0</td>\n",
       "      <td>33.0</td>\n",
       "      <td>0.5</td>\n",
       "      <td>22.0</td>\n",
       "      <td>...</td>\n",
       "      <td>6.3</td>\n",
       "      <td>52.0</td>\n",
       "      <td>3.5</td>\n",
       "      <td>94.0</td>\n",
       "      <td>173.0</td>\n",
       "      <td>9.8</td>\n",
       "      <td>36.0</td>\n",
       "      <td>75.0</td>\n",
       "      <td>42.0</td>\n",
       "      <td>478.265904</td>\n",
       "    </tr>\n",
       "    <tr>\n",
       "      <th>1856</th>\n",
       "      <td>-134.587525</td>\n",
       "      <td>New York, New York</td>\n",
       "      <td>14.0</td>\n",
       "      <td>3.5</td>\n",
       "      <td>3.5</td>\n",
       "      <td>9.0</td>\n",
       "      <td>13.0</td>\n",
       "      <td>15.0</td>\n",
       "      <td>7.8</td>\n",
       "      <td>18.0</td>\n",
       "      <td>...</td>\n",
       "      <td>8.7</td>\n",
       "      <td>41.0</td>\n",
       "      <td>13.0</td>\n",
       "      <td>620.0</td>\n",
       "      <td>32.0</td>\n",
       "      <td>10.8</td>\n",
       "      <td>25.0</td>\n",
       "      <td>6.0</td>\n",
       "      <td>63.0</td>\n",
       "      <td>155.756157</td>\n",
       "    </tr>\n",
       "  </tbody>\n",
       "</table>\n",
       "<p>5 rows × 33 columns</p>\n",
       "</div>"
      ],
      "text/plain": [
       "              GM                 County  '\\% Reporting Fair/Poor Health'  \\\n",
       "2415 -213.093594  Shannon, South Dakota                             33.0   \n",
       "108  -138.259208          Yuma, Arizona                             24.0   \n",
       "2765 -135.509295         Willacy, Texas                             37.0   \n",
       "94   -134.665509        Apache, Arizona                             30.0   \n",
       "1856 -134.587525     New York, New York                             14.0   \n",
       "\n",
       "      'Physically Unhealthy Days Per Month'  \\\n",
       "2415                                    5.9   \n",
       "108                                     4.1   \n",
       "2765                                    5.2   \n",
       "94                                      5.7   \n",
       "1856                                    3.5   \n",
       "\n",
       "      'Mentally Unhealthy Days Per Month'  '\\% Low birth weight births'  \\\n",
       "2415                                  4.7                           7.0   \n",
       "108                                   3.9                           6.0   \n",
       "2765                                  3.6                           9.0   \n",
       "94                                    5.3                           7.0   \n",
       "1856                                  3.5                           9.0   \n",
       "\n",
       "      '\\% Smokers'  '\\% Obese'  'Food Environment Index'  \\\n",
       "2415          41.0        45.0                       1.6   \n",
       "108           15.0        30.0                       5.2   \n",
       "2765          20.0        29.0                       7.3   \n",
       "94            26.0        33.0                       0.5   \n",
       "1856          13.0        15.0                       7.8   \n",
       "\n",
       "      '\\% Physically Inactive'     ...       '80/20 Income Ratio'  \\\n",
       "2415                      24.0     ...                        6.5   \n",
       "108                       28.0     ...                        4.1   \n",
       "2765                      27.0     ...                        6.8   \n",
       "94                        22.0     ...                        6.3   \n",
       "1856                      18.0     ...                        8.7   \n",
       "\n",
       "      '\\% Single-Parent Households'  'Association Rate'  'Violent Crime Rate'  \\\n",
       "2415                           68.0                 2.8                   0.0   \n",
       "108                            32.0                 4.3                 352.0   \n",
       "2765                           43.0                 5.9                 902.0   \n",
       "94                             52.0                 3.5                  94.0   \n",
       "1856                           41.0                13.0                 620.0   \n",
       "\n",
       "      'Injury Death Rate'  'Average Daily PM2.5'  \\\n",
       "2415                200.0                   11.8   \n",
       "108                  53.0                    9.9   \n",
       "2765                 47.0                    8.7   \n",
       "94                  173.0                    9.8   \n",
       "1856                 32.0                   10.8   \n",
       "\n",
       "      '\\% Severe Housing Problems'  '\\% Drive Alone'  \\\n",
       "2415                          44.0              64.0   \n",
       "108                           21.0              78.0   \n",
       "2765                          18.0              90.0   \n",
       "94                            36.0              75.0   \n",
       "1856                          25.0               6.0   \n",
       "\n",
       "      '\\% Long Commute - Drives Alone'     km_score  \n",
       "2415                              22.0  1970.018443  \n",
       "108                               19.0    41.494999  \n",
       "2765                              27.0   463.627032  \n",
       "94                                42.0   478.265904  \n",
       "1856                              63.0   155.756157  \n",
       "\n",
       "[5 rows x 33 columns]"
      ]
     },
     "execution_count": 443,
     "metadata": {},
     "output_type": "execute_result"
    }
   ],
   "source": [
    "Data2.sort_values(by='GM').head()"
   ]
  },
  {
   "cell_type": "markdown",
   "metadata": {},
   "source": [
    "## Part 3"
   ]
  },
  {
   "cell_type": "code",
   "execution_count": 444,
   "metadata": {
    "ExecuteTime": {
     "end_time": "2018-04-23T03:35:41.687000Z",
     "start_time": "2018-04-23T03:35:41.682000Z"
    }
   },
   "outputs": [],
   "source": [
    "from sklearn.ensemble import IsolationForest\n",
    "from scipy import stats  \n",
    "ilf = IsolationForest(n_estimators=100,\n",
    "                      n_jobs=-1,        \n",
    "                      verbose=2)"
   ]
  },
  {
   "cell_type": "code",
   "execution_count": 445,
   "metadata": {
    "ExecuteTime": {
     "end_time": "2018-04-23T03:35:43.229000Z",
     "start_time": "2018-04-23T03:35:43.223000Z"
    }
   },
   "outputs": [],
   "source": [
    "X_cols = Data2.columns[2:]"
   ]
  },
  {
   "cell_type": "code",
   "execution_count": 446,
   "metadata": {
    "ExecuteTime": {
     "end_time": "2018-04-23T03:35:52.803000Z",
     "start_time": "2018-04-23T03:35:43.872000Z"
    }
   },
   "outputs": [
    {
     "name": "stderr",
     "output_type": "stream",
     "text": [
      "[Parallel(n_jobs=8)]: Done   3 out of   8 | elapsed:    5.0s remaining:    8.5s\n",
      "[Parallel(n_jobs=8)]: Done   8 out of   8 | elapsed:    7.9s remaining:    0.0s\n",
      "[Parallel(n_jobs=8)]: Done   8 out of   8 | elapsed:    7.9s finished\n"
     ]
    }
   ],
   "source": [
    "ilf.fit(Data2[X_cols])\n",
    "shape = Data2.shape[0]\n",
    "batch = 10**6\n",
    "all_score = []\n",
    "all_pred = []\n",
    "for i in range(shape/batch+1):\n",
    "    start = i * batch\n",
    "    end = (i+1) * batch\n",
    "    test = Data2[X_cols][start:end]\n",
    "    \n",
    "    pred = ilf.predict(test)\n",
    "    score = ilf.decision_function(test)\n",
    "    all_pred.extend(pred)\n",
    "    all_score.extend(score)\n",
    "Data2['pred_ilf'] = all_pred\n",
    "Data2['score_ilf'] = all_score"
   ]
  },
  {
   "cell_type": "code",
   "execution_count": 447,
   "metadata": {
    "ExecuteTime": {
     "end_time": "2018-04-23T03:36:02.814000Z",
     "start_time": "2018-04-23T03:36:02.764000Z"
    }
   },
   "outputs": [
    {
     "data": {
      "text/html": [
       "<div>\n",
       "<table border=\"1\" class=\"dataframe\">\n",
       "  <thead>\n",
       "    <tr style=\"text-align: right;\">\n",
       "      <th></th>\n",
       "      <th>GM</th>\n",
       "      <th>County</th>\n",
       "      <th>'\\% Reporting Fair/Poor Health'</th>\n",
       "      <th>'Physically Unhealthy Days Per Month'</th>\n",
       "      <th>'Mentally Unhealthy Days Per Month'</th>\n",
       "      <th>'\\% Low birth weight births'</th>\n",
       "      <th>'\\% Smokers'</th>\n",
       "      <th>'\\% Obese'</th>\n",
       "      <th>'Food Environment Index'</th>\n",
       "      <th>'\\% Physically Inactive'</th>\n",
       "      <th>...</th>\n",
       "      <th>'Association Rate'</th>\n",
       "      <th>'Violent Crime Rate'</th>\n",
       "      <th>'Injury Death Rate'</th>\n",
       "      <th>'Average Daily PM2.5'</th>\n",
       "      <th>'\\% Severe Housing Problems'</th>\n",
       "      <th>'\\% Drive Alone'</th>\n",
       "      <th>'\\% Long Commute - Drives Alone'</th>\n",
       "      <th>km_score</th>\n",
       "      <th>pred_ilf</th>\n",
       "      <th>score_ilf</th>\n",
       "    </tr>\n",
       "  </thead>\n",
       "  <tbody>\n",
       "    <tr>\n",
       "      <th>2415</th>\n",
       "      <td>-213.093594</td>\n",
       "      <td>Shannon, South Dakota</td>\n",
       "      <td>33.0</td>\n",
       "      <td>5.9</td>\n",
       "      <td>4.7</td>\n",
       "      <td>7.0</td>\n",
       "      <td>41.0</td>\n",
       "      <td>45.0</td>\n",
       "      <td>1.6</td>\n",
       "      <td>24.0</td>\n",
       "      <td>...</td>\n",
       "      <td>2.8</td>\n",
       "      <td>0.0</td>\n",
       "      <td>200.0</td>\n",
       "      <td>11.8</td>\n",
       "      <td>44.0</td>\n",
       "      <td>64.0</td>\n",
       "      <td>22.0</td>\n",
       "      <td>1970.018443</td>\n",
       "      <td>-1</td>\n",
       "      <td>-0.188819</td>\n",
       "    </tr>\n",
       "    <tr>\n",
       "      <th>94</th>\n",
       "      <td>-134.665509</td>\n",
       "      <td>Apache, Arizona</td>\n",
       "      <td>30.0</td>\n",
       "      <td>5.7</td>\n",
       "      <td>5.3</td>\n",
       "      <td>7.0</td>\n",
       "      <td>26.0</td>\n",
       "      <td>33.0</td>\n",
       "      <td>0.5</td>\n",
       "      <td>22.0</td>\n",
       "      <td>...</td>\n",
       "      <td>3.5</td>\n",
       "      <td>94.0</td>\n",
       "      <td>173.0</td>\n",
       "      <td>9.8</td>\n",
       "      <td>36.0</td>\n",
       "      <td>75.0</td>\n",
       "      <td>42.0</td>\n",
       "      <td>478.265904</td>\n",
       "      <td>-1</td>\n",
       "      <td>-0.123254</td>\n",
       "    </tr>\n",
       "    <tr>\n",
       "      <th>65</th>\n",
       "      <td>-112.884327</td>\n",
       "      <td>Wilcox, Alabama</td>\n",
       "      <td>34.0</td>\n",
       "      <td>6.0</td>\n",
       "      <td>5.4</td>\n",
       "      <td>14.0</td>\n",
       "      <td>25.0</td>\n",
       "      <td>44.0</td>\n",
       "      <td>1.8</td>\n",
       "      <td>32.0</td>\n",
       "      <td>...</td>\n",
       "      <td>8.8</td>\n",
       "      <td>216.0</td>\n",
       "      <td>104.0</td>\n",
       "      <td>12.9</td>\n",
       "      <td>20.0</td>\n",
       "      <td>85.0</td>\n",
       "      <td>25.0</td>\n",
       "      <td>773.253831</td>\n",
       "      <td>-1</td>\n",
       "      <td>-0.122711</td>\n",
       "    </tr>\n",
       "    <tr>\n",
       "      <th>1128</th>\n",
       "      <td>-116.776459</td>\n",
       "      <td>East Carroll, Louisiana</td>\n",
       "      <td>38.0</td>\n",
       "      <td>6.1</td>\n",
       "      <td>5.1</td>\n",
       "      <td>15.0</td>\n",
       "      <td>33.0</td>\n",
       "      <td>43.0</td>\n",
       "      <td>4.0</td>\n",
       "      <td>37.0</td>\n",
       "      <td>...</td>\n",
       "      <td>10.6</td>\n",
       "      <td>662.0</td>\n",
       "      <td>73.0</td>\n",
       "      <td>12.0</td>\n",
       "      <td>20.0</td>\n",
       "      <td>88.0</td>\n",
       "      <td>14.0</td>\n",
       "      <td>212.277759</td>\n",
       "      <td>-1</td>\n",
       "      <td>-0.117088</td>\n",
       "    </tr>\n",
       "    <tr>\n",
       "      <th>1412</th>\n",
       "      <td>-105.361025</td>\n",
       "      <td>Coahoma, Mississippi</td>\n",
       "      <td>28.0</td>\n",
       "      <td>4.8</td>\n",
       "      <td>4.5</td>\n",
       "      <td>19.0</td>\n",
       "      <td>25.0</td>\n",
       "      <td>46.0</td>\n",
       "      <td>2.5</td>\n",
       "      <td>38.0</td>\n",
       "      <td>...</td>\n",
       "      <td>9.5</td>\n",
       "      <td>717.0</td>\n",
       "      <td>114.0</td>\n",
       "      <td>12.2</td>\n",
       "      <td>20.0</td>\n",
       "      <td>77.0</td>\n",
       "      <td>18.0</td>\n",
       "      <td>581.211194</td>\n",
       "      <td>-1</td>\n",
       "      <td>-0.109875</td>\n",
       "    </tr>\n",
       "  </tbody>\n",
       "</table>\n",
       "<p>5 rows × 35 columns</p>\n",
       "</div>"
      ],
      "text/plain": [
       "              GM                   County  '\\% Reporting Fair/Poor Health'  \\\n",
       "2415 -213.093594    Shannon, South Dakota                             33.0   \n",
       "94   -134.665509          Apache, Arizona                             30.0   \n",
       "65   -112.884327          Wilcox, Alabama                             34.0   \n",
       "1128 -116.776459  East Carroll, Louisiana                             38.0   \n",
       "1412 -105.361025     Coahoma, Mississippi                             28.0   \n",
       "\n",
       "      'Physically Unhealthy Days Per Month'  \\\n",
       "2415                                    5.9   \n",
       "94                                      5.7   \n",
       "65                                      6.0   \n",
       "1128                                    6.1   \n",
       "1412                                    4.8   \n",
       "\n",
       "      'Mentally Unhealthy Days Per Month'  '\\% Low birth weight births'  \\\n",
       "2415                                  4.7                           7.0   \n",
       "94                                    5.3                           7.0   \n",
       "65                                    5.4                          14.0   \n",
       "1128                                  5.1                          15.0   \n",
       "1412                                  4.5                          19.0   \n",
       "\n",
       "      '\\% Smokers'  '\\% Obese'  'Food Environment Index'  \\\n",
       "2415          41.0        45.0                       1.6   \n",
       "94            26.0        33.0                       0.5   \n",
       "65            25.0        44.0                       1.8   \n",
       "1128          33.0        43.0                       4.0   \n",
       "1412          25.0        46.0                       2.5   \n",
       "\n",
       "      '\\% Physically Inactive'    ...      'Association Rate'  \\\n",
       "2415                      24.0    ...                     2.8   \n",
       "94                        22.0    ...                     3.5   \n",
       "65                        32.0    ...                     8.8   \n",
       "1128                      37.0    ...                    10.6   \n",
       "1412                      38.0    ...                     9.5   \n",
       "\n",
       "      'Violent Crime Rate'  'Injury Death Rate'  'Average Daily PM2.5'  \\\n",
       "2415                   0.0                200.0                   11.8   \n",
       "94                    94.0                173.0                    9.8   \n",
       "65                   216.0                104.0                   12.9   \n",
       "1128                 662.0                 73.0                   12.0   \n",
       "1412                 717.0                114.0                   12.2   \n",
       "\n",
       "      '\\% Severe Housing Problems'  '\\% Drive Alone'  \\\n",
       "2415                          44.0              64.0   \n",
       "94                            36.0              75.0   \n",
       "65                            20.0              85.0   \n",
       "1128                          20.0              88.0   \n",
       "1412                          20.0              77.0   \n",
       "\n",
       "      '\\% Long Commute - Drives Alone'     km_score  pred_ilf  score_ilf  \n",
       "2415                              22.0  1970.018443        -1  -0.188819  \n",
       "94                                42.0   478.265904        -1  -0.123254  \n",
       "65                                25.0   773.253831        -1  -0.122711  \n",
       "1128                              14.0   212.277759        -1  -0.117088  \n",
       "1412                              18.0   581.211194        -1  -0.109875  \n",
       "\n",
       "[5 rows x 35 columns]"
      ]
     },
     "execution_count": 447,
     "metadata": {},
     "output_type": "execute_result"
    }
   ],
   "source": [
    "Data2.sort_values(by='score_ilf',ascending=True).head()"
   ]
  },
  {
   "cell_type": "code",
   "execution_count": 454,
   "metadata": {
    "ExecuteTime": {
     "end_time": "2018-04-23T03:37:18.631000Z",
     "start_time": "2018-04-23T03:37:18.588000Z"
    }
   },
   "outputs": [
    {
     "data": {
      "text/html": [
       "<div>\n",
       "<table border=\"1\" class=\"dataframe\">\n",
       "  <thead>\n",
       "    <tr style=\"text-align: right;\">\n",
       "      <th></th>\n",
       "      <th>GM</th>\n",
       "      <th>County</th>\n",
       "      <th>'\\% Reporting Fair/Poor Health'</th>\n",
       "      <th>'Physically Unhealthy Days Per Month'</th>\n",
       "      <th>'Mentally Unhealthy Days Per Month'</th>\n",
       "      <th>'\\% Low birth weight births'</th>\n",
       "      <th>'\\% Smokers'</th>\n",
       "      <th>'\\% Obese'</th>\n",
       "      <th>'Food Environment Index'</th>\n",
       "      <th>'\\% Physically Inactive'</th>\n",
       "      <th>...</th>\n",
       "      <th>'Association Rate'</th>\n",
       "      <th>'Violent Crime Rate'</th>\n",
       "      <th>'Injury Death Rate'</th>\n",
       "      <th>'Average Daily PM2.5'</th>\n",
       "      <th>'\\% Severe Housing Problems'</th>\n",
       "      <th>'\\% Drive Alone'</th>\n",
       "      <th>'\\% Long Commute - Drives Alone'</th>\n",
       "      <th>km_score</th>\n",
       "      <th>pred_ilf</th>\n",
       "      <th>score_ilf</th>\n",
       "    </tr>\n",
       "  </thead>\n",
       "  <tbody>\n",
       "    <tr>\n",
       "      <th>2415</th>\n",
       "      <td>-213.093594</td>\n",
       "      <td>Shannon, South Dakota</td>\n",
       "      <td>33.0</td>\n",
       "      <td>5.9</td>\n",
       "      <td>4.7</td>\n",
       "      <td>7.0</td>\n",
       "      <td>41.0</td>\n",
       "      <td>45.0</td>\n",
       "      <td>1.6</td>\n",
       "      <td>24.0</td>\n",
       "      <td>...</td>\n",
       "      <td>2.8</td>\n",
       "      <td>0.0</td>\n",
       "      <td>200.0</td>\n",
       "      <td>11.8</td>\n",
       "      <td>44.0</td>\n",
       "      <td>64.0</td>\n",
       "      <td>22.0</td>\n",
       "      <td>1970.018443</td>\n",
       "      <td>-1</td>\n",
       "      <td>-0.188819</td>\n",
       "    </tr>\n",
       "    <tr>\n",
       "      <th>1595</th>\n",
       "      <td>-122.615721</td>\n",
       "      <td>St. Louis City, Missouri</td>\n",
       "      <td>23.0</td>\n",
       "      <td>5.0</td>\n",
       "      <td>4.4</td>\n",
       "      <td>12.0</td>\n",
       "      <td>26.0</td>\n",
       "      <td>32.0</td>\n",
       "      <td>5.0</td>\n",
       "      <td>25.0</td>\n",
       "      <td>...</td>\n",
       "      <td>14.1</td>\n",
       "      <td>1885.0</td>\n",
       "      <td>98.0</td>\n",
       "      <td>11.9</td>\n",
       "      <td>23.0</td>\n",
       "      <td>71.0</td>\n",
       "      <td>25.0</td>\n",
       "      <td>1332.735955</td>\n",
       "      <td>-1</td>\n",
       "      <td>-0.062528</td>\n",
       "    </tr>\n",
       "    <tr>\n",
       "      <th>126</th>\n",
       "      <td>-117.093111</td>\n",
       "      <td>Crittenden, Arkansas</td>\n",
       "      <td>26.0</td>\n",
       "      <td>5.2</td>\n",
       "      <td>4.6</td>\n",
       "      <td>13.0</td>\n",
       "      <td>26.0</td>\n",
       "      <td>38.0</td>\n",
       "      <td>4.8</td>\n",
       "      <td>34.0</td>\n",
       "      <td>...</td>\n",
       "      <td>8.2</td>\n",
       "      <td>1764.0</td>\n",
       "      <td>65.0</td>\n",
       "      <td>12.7</td>\n",
       "      <td>20.0</td>\n",
       "      <td>83.0</td>\n",
       "      <td>31.0</td>\n",
       "      <td>1208.900834</td>\n",
       "      <td>-1</td>\n",
       "      <td>-0.046215</td>\n",
       "    </tr>\n",
       "    <tr>\n",
       "      <th>2939</th>\n",
       "      <td>-111.244844</td>\n",
       "      <td>Petersburg City, Virginia</td>\n",
       "      <td>26.0</td>\n",
       "      <td>4.5</td>\n",
       "      <td>4.0</td>\n",
       "      <td>13.0</td>\n",
       "      <td>23.0</td>\n",
       "      <td>38.0</td>\n",
       "      <td>4.4</td>\n",
       "      <td>28.0</td>\n",
       "      <td>...</td>\n",
       "      <td>16.6</td>\n",
       "      <td>560.0</td>\n",
       "      <td>81.0</td>\n",
       "      <td>12.3</td>\n",
       "      <td>18.0</td>\n",
       "      <td>79.0</td>\n",
       "      <td>23.0</td>\n",
       "      <td>1017.910163</td>\n",
       "      <td>-1</td>\n",
       "      <td>-0.026059</td>\n",
       "    </tr>\n",
       "    <tr>\n",
       "      <th>1214</th>\n",
       "      <td>-103.930479</td>\n",
       "      <td>Baltimore City, Maryland</td>\n",
       "      <td>20.0</td>\n",
       "      <td>3.8</td>\n",
       "      <td>3.9</td>\n",
       "      <td>12.0</td>\n",
       "      <td>21.0</td>\n",
       "      <td>34.0</td>\n",
       "      <td>6.0</td>\n",
       "      <td>29.0</td>\n",
       "      <td>...</td>\n",
       "      <td>9.7</td>\n",
       "      <td>1449.0</td>\n",
       "      <td>99.0</td>\n",
       "      <td>12.6</td>\n",
       "      <td>24.0</td>\n",
       "      <td>60.0</td>\n",
       "      <td>39.0</td>\n",
       "      <td>918.374430</td>\n",
       "      <td>-1</td>\n",
       "      <td>-0.051151</td>\n",
       "    </tr>\n",
       "  </tbody>\n",
       "</table>\n",
       "<p>5 rows × 35 columns</p>\n",
       "</div>"
      ],
      "text/plain": [
       "              GM                     County  '\\% Reporting Fair/Poor Health'  \\\n",
       "2415 -213.093594      Shannon, South Dakota                             33.0   \n",
       "1595 -122.615721   St. Louis City, Missouri                             23.0   \n",
       "126  -117.093111       Crittenden, Arkansas                             26.0   \n",
       "2939 -111.244844  Petersburg City, Virginia                             26.0   \n",
       "1214 -103.930479   Baltimore City, Maryland                             20.0   \n",
       "\n",
       "      'Physically Unhealthy Days Per Month'  \\\n",
       "2415                                    5.9   \n",
       "1595                                    5.0   \n",
       "126                                     5.2   \n",
       "2939                                    4.5   \n",
       "1214                                    3.8   \n",
       "\n",
       "      'Mentally Unhealthy Days Per Month'  '\\% Low birth weight births'  \\\n",
       "2415                                  4.7                           7.0   \n",
       "1595                                  4.4                          12.0   \n",
       "126                                   4.6                          13.0   \n",
       "2939                                  4.0                          13.0   \n",
       "1214                                  3.9                          12.0   \n",
       "\n",
       "      '\\% Smokers'  '\\% Obese'  'Food Environment Index'  \\\n",
       "2415          41.0        45.0                       1.6   \n",
       "1595          26.0        32.0                       5.0   \n",
       "126           26.0        38.0                       4.8   \n",
       "2939          23.0        38.0                       4.4   \n",
       "1214          21.0        34.0                       6.0   \n",
       "\n",
       "      '\\% Physically Inactive'    ...      'Association Rate'  \\\n",
       "2415                      24.0    ...                     2.8   \n",
       "1595                      25.0    ...                    14.1   \n",
       "126                       34.0    ...                     8.2   \n",
       "2939                      28.0    ...                    16.6   \n",
       "1214                      29.0    ...                     9.7   \n",
       "\n",
       "      'Violent Crime Rate'  'Injury Death Rate'  'Average Daily PM2.5'  \\\n",
       "2415                   0.0                200.0                   11.8   \n",
       "1595                1885.0                 98.0                   11.9   \n",
       "126                 1764.0                 65.0                   12.7   \n",
       "2939                 560.0                 81.0                   12.3   \n",
       "1214                1449.0                 99.0                   12.6   \n",
       "\n",
       "      '\\% Severe Housing Problems'  '\\% Drive Alone'  \\\n",
       "2415                          44.0              64.0   \n",
       "1595                          23.0              71.0   \n",
       "126                           20.0              83.0   \n",
       "2939                          18.0              79.0   \n",
       "1214                          24.0              60.0   \n",
       "\n",
       "      '\\% Long Commute - Drives Alone'     km_score  pred_ilf  score_ilf  \n",
       "2415                              22.0  1970.018443        -1  -0.188819  \n",
       "1595                              25.0  1332.735955        -1  -0.062528  \n",
       "126                               31.0  1208.900834        -1  -0.046215  \n",
       "2939                              23.0  1017.910163        -1  -0.026059  \n",
       "1214                              39.0   918.374430        -1  -0.051151  \n",
       "\n",
       "[5 rows x 35 columns]"
      ]
     },
     "execution_count": 454,
     "metadata": {},
     "output_type": "execute_result"
    }
   ],
   "source": [
    "Data2.sort_values(by='km_score',ascending=False).head() #based on kmeans"
   ]
  },
  {
   "cell_type": "code",
   "execution_count": 449,
   "metadata": {
    "ExecuteTime": {
     "end_time": "2018-04-23T03:36:14.743000Z",
     "start_time": "2018-04-23T03:36:14.696000Z"
    }
   },
   "outputs": [
    {
     "data": {
      "text/html": [
       "<div>\n",
       "<table border=\"1\" class=\"dataframe\">\n",
       "  <thead>\n",
       "    <tr style=\"text-align: right;\">\n",
       "      <th></th>\n",
       "      <th>GM</th>\n",
       "      <th>County</th>\n",
       "      <th>'\\% Reporting Fair/Poor Health'</th>\n",
       "      <th>'Physically Unhealthy Days Per Month'</th>\n",
       "      <th>'Mentally Unhealthy Days Per Month'</th>\n",
       "      <th>'\\% Low birth weight births'</th>\n",
       "      <th>'\\% Smokers'</th>\n",
       "      <th>'\\% Obese'</th>\n",
       "      <th>'Food Environment Index'</th>\n",
       "      <th>'\\% Physically Inactive'</th>\n",
       "      <th>...</th>\n",
       "      <th>'Association Rate'</th>\n",
       "      <th>'Violent Crime Rate'</th>\n",
       "      <th>'Injury Death Rate'</th>\n",
       "      <th>'Average Daily PM2.5'</th>\n",
       "      <th>'\\% Severe Housing Problems'</th>\n",
       "      <th>'\\% Drive Alone'</th>\n",
       "      <th>'\\% Long Commute - Drives Alone'</th>\n",
       "      <th>km_score</th>\n",
       "      <th>pred_ilf</th>\n",
       "      <th>score_ilf</th>\n",
       "    </tr>\n",
       "  </thead>\n",
       "  <tbody>\n",
       "    <tr>\n",
       "      <th>2415</th>\n",
       "      <td>-213.093594</td>\n",
       "      <td>Shannon, South Dakota</td>\n",
       "      <td>33.0</td>\n",
       "      <td>5.9</td>\n",
       "      <td>4.7</td>\n",
       "      <td>7.0</td>\n",
       "      <td>41.0</td>\n",
       "      <td>45.0</td>\n",
       "      <td>1.6</td>\n",
       "      <td>24.0</td>\n",
       "      <td>...</td>\n",
       "      <td>2.8</td>\n",
       "      <td>0.0</td>\n",
       "      <td>200.0</td>\n",
       "      <td>11.8</td>\n",
       "      <td>44.0</td>\n",
       "      <td>64.0</td>\n",
       "      <td>22.0</td>\n",
       "      <td>1970.018443</td>\n",
       "      <td>-1</td>\n",
       "      <td>-0.188819</td>\n",
       "    </tr>\n",
       "    <tr>\n",
       "      <th>108</th>\n",
       "      <td>-138.259208</td>\n",
       "      <td>Yuma, Arizona</td>\n",
       "      <td>24.0</td>\n",
       "      <td>4.1</td>\n",
       "      <td>3.9</td>\n",
       "      <td>6.0</td>\n",
       "      <td>15.0</td>\n",
       "      <td>30.0</td>\n",
       "      <td>5.2</td>\n",
       "      <td>28.0</td>\n",
       "      <td>...</td>\n",
       "      <td>4.3</td>\n",
       "      <td>352.0</td>\n",
       "      <td>53.0</td>\n",
       "      <td>9.9</td>\n",
       "      <td>21.0</td>\n",
       "      <td>78.0</td>\n",
       "      <td>19.0</td>\n",
       "      <td>41.494999</td>\n",
       "      <td>1</td>\n",
       "      <td>0.034368</td>\n",
       "    </tr>\n",
       "    <tr>\n",
       "      <th>2765</th>\n",
       "      <td>-135.509295</td>\n",
       "      <td>Willacy, Texas</td>\n",
       "      <td>37.0</td>\n",
       "      <td>5.2</td>\n",
       "      <td>3.6</td>\n",
       "      <td>9.0</td>\n",
       "      <td>20.0</td>\n",
       "      <td>29.0</td>\n",
       "      <td>7.3</td>\n",
       "      <td>27.0</td>\n",
       "      <td>...</td>\n",
       "      <td>5.9</td>\n",
       "      <td>902.0</td>\n",
       "      <td>47.0</td>\n",
       "      <td>8.7</td>\n",
       "      <td>18.0</td>\n",
       "      <td>90.0</td>\n",
       "      <td>27.0</td>\n",
       "      <td>463.627032</td>\n",
       "      <td>-1</td>\n",
       "      <td>-0.059771</td>\n",
       "    </tr>\n",
       "    <tr>\n",
       "      <th>94</th>\n",
       "      <td>-134.665509</td>\n",
       "      <td>Apache, Arizona</td>\n",
       "      <td>30.0</td>\n",
       "      <td>5.7</td>\n",
       "      <td>5.3</td>\n",
       "      <td>7.0</td>\n",
       "      <td>26.0</td>\n",
       "      <td>33.0</td>\n",
       "      <td>0.5</td>\n",
       "      <td>22.0</td>\n",
       "      <td>...</td>\n",
       "      <td>3.5</td>\n",
       "      <td>94.0</td>\n",
       "      <td>173.0</td>\n",
       "      <td>9.8</td>\n",
       "      <td>36.0</td>\n",
       "      <td>75.0</td>\n",
       "      <td>42.0</td>\n",
       "      <td>478.265904</td>\n",
       "      <td>-1</td>\n",
       "      <td>-0.123254</td>\n",
       "    </tr>\n",
       "    <tr>\n",
       "      <th>1856</th>\n",
       "      <td>-134.587525</td>\n",
       "      <td>New York, New York</td>\n",
       "      <td>14.0</td>\n",
       "      <td>3.5</td>\n",
       "      <td>3.5</td>\n",
       "      <td>9.0</td>\n",
       "      <td>13.0</td>\n",
       "      <td>15.0</td>\n",
       "      <td>7.8</td>\n",
       "      <td>18.0</td>\n",
       "      <td>...</td>\n",
       "      <td>13.0</td>\n",
       "      <td>620.0</td>\n",
       "      <td>32.0</td>\n",
       "      <td>10.8</td>\n",
       "      <td>25.0</td>\n",
       "      <td>6.0</td>\n",
       "      <td>63.0</td>\n",
       "      <td>155.756157</td>\n",
       "      <td>-1</td>\n",
       "      <td>-0.041613</td>\n",
       "    </tr>\n",
       "  </tbody>\n",
       "</table>\n",
       "<p>5 rows × 35 columns</p>\n",
       "</div>"
      ],
      "text/plain": [
       "              GM                 County  '\\% Reporting Fair/Poor Health'  \\\n",
       "2415 -213.093594  Shannon, South Dakota                             33.0   \n",
       "108  -138.259208          Yuma, Arizona                             24.0   \n",
       "2765 -135.509295         Willacy, Texas                             37.0   \n",
       "94   -134.665509        Apache, Arizona                             30.0   \n",
       "1856 -134.587525     New York, New York                             14.0   \n",
       "\n",
       "      'Physically Unhealthy Days Per Month'  \\\n",
       "2415                                    5.9   \n",
       "108                                     4.1   \n",
       "2765                                    5.2   \n",
       "94                                      5.7   \n",
       "1856                                    3.5   \n",
       "\n",
       "      'Mentally Unhealthy Days Per Month'  '\\% Low birth weight births'  \\\n",
       "2415                                  4.7                           7.0   \n",
       "108                                   3.9                           6.0   \n",
       "2765                                  3.6                           9.0   \n",
       "94                                    5.3                           7.0   \n",
       "1856                                  3.5                           9.0   \n",
       "\n",
       "      '\\% Smokers'  '\\% Obese'  'Food Environment Index'  \\\n",
       "2415          41.0        45.0                       1.6   \n",
       "108           15.0        30.0                       5.2   \n",
       "2765          20.0        29.0                       7.3   \n",
       "94            26.0        33.0                       0.5   \n",
       "1856          13.0        15.0                       7.8   \n",
       "\n",
       "      '\\% Physically Inactive'    ...      'Association Rate'  \\\n",
       "2415                      24.0    ...                     2.8   \n",
       "108                       28.0    ...                     4.3   \n",
       "2765                      27.0    ...                     5.9   \n",
       "94                        22.0    ...                     3.5   \n",
       "1856                      18.0    ...                    13.0   \n",
       "\n",
       "      'Violent Crime Rate'  'Injury Death Rate'  'Average Daily PM2.5'  \\\n",
       "2415                   0.0                200.0                   11.8   \n",
       "108                  352.0                 53.0                    9.9   \n",
       "2765                 902.0                 47.0                    8.7   \n",
       "94                    94.0                173.0                    9.8   \n",
       "1856                 620.0                 32.0                   10.8   \n",
       "\n",
       "      '\\% Severe Housing Problems'  '\\% Drive Alone'  \\\n",
       "2415                          44.0              64.0   \n",
       "108                           21.0              78.0   \n",
       "2765                          18.0              90.0   \n",
       "94                            36.0              75.0   \n",
       "1856                          25.0               6.0   \n",
       "\n",
       "      '\\% Long Commute - Drives Alone'     km_score  pred_ilf  score_ilf  \n",
       "2415                              22.0  1970.018443        -1  -0.188819  \n",
       "108                               19.0    41.494999         1   0.034368  \n",
       "2765                              27.0   463.627032        -1  -0.059771  \n",
       "94                                42.0   478.265904        -1  -0.123254  \n",
       "1856                              63.0   155.756157        -1  -0.041613  \n",
       "\n",
       "[5 rows x 35 columns]"
      ]
     },
     "execution_count": 449,
     "metadata": {},
     "output_type": "execute_result"
    }
   ],
   "source": [
    "Data2.sort_values(by='GM').head() #based on GM"
   ]
  },
  {
   "cell_type": "code",
   "execution_count": 468,
   "metadata": {
    "ExecuteTime": {
     "end_time": "2018-04-23T03:52:52.954000Z",
     "start_time": "2018-04-23T03:52:52.903000Z"
    }
   },
   "outputs": [
    {
     "data": {
      "text/html": [
       "<div>\n",
       "<table border=\"1\" class=\"dataframe\">\n",
       "  <thead>\n",
       "    <tr style=\"text-align: right;\">\n",
       "      <th></th>\n",
       "      <th>GM</th>\n",
       "      <th>County</th>\n",
       "      <th>'\\% Reporting Fair/Poor Health'</th>\n",
       "      <th>'Physically Unhealthy Days Per Month'</th>\n",
       "      <th>'Mentally Unhealthy Days Per Month'</th>\n",
       "      <th>'\\% Low birth weight births'</th>\n",
       "      <th>'\\% Smokers'</th>\n",
       "      <th>'\\% Obese'</th>\n",
       "      <th>'Food Environment Index'</th>\n",
       "      <th>'\\% Physically Inactive'</th>\n",
       "      <th>...</th>\n",
       "      <th>'Violent Crime Rate'</th>\n",
       "      <th>'Injury Death Rate'</th>\n",
       "      <th>'Average Daily PM2.5'</th>\n",
       "      <th>'\\% Severe Housing Problems'</th>\n",
       "      <th>'\\% Drive Alone'</th>\n",
       "      <th>'\\% Long Commute - Drives Alone'</th>\n",
       "      <th>km_score</th>\n",
       "      <th>pred_ilf</th>\n",
       "      <th>score_ilf</th>\n",
       "      <th>Beyas</th>\n",
       "    </tr>\n",
       "  </thead>\n",
       "  <tbody>\n",
       "    <tr>\n",
       "      <th>1856</th>\n",
       "      <td>-134.587525</td>\n",
       "      <td>New York, New York</td>\n",
       "      <td>14.0</td>\n",
       "      <td>3.5</td>\n",
       "      <td>3.5</td>\n",
       "      <td>9.0</td>\n",
       "      <td>13.0</td>\n",
       "      <td>15.0</td>\n",
       "      <td>7.8</td>\n",
       "      <td>18.0</td>\n",
       "      <td>...</td>\n",
       "      <td>620.0</td>\n",
       "      <td>32.0</td>\n",
       "      <td>10.8</td>\n",
       "      <td>25.0</td>\n",
       "      <td>6.0</td>\n",
       "      <td>63.0</td>\n",
       "      <td>155.756157</td>\n",
       "      <td>-1</td>\n",
       "      <td>-0.041613</td>\n",
       "      <td>-16.608495</td>\n",
       "    </tr>\n",
       "    <tr>\n",
       "      <th>221</th>\n",
       "      <td>-105.391176</td>\n",
       "      <td>San Francisco, California</td>\n",
       "      <td>11.0</td>\n",
       "      <td>3.2</td>\n",
       "      <td>3.1</td>\n",
       "      <td>7.0</td>\n",
       "      <td>12.0</td>\n",
       "      <td>15.0</td>\n",
       "      <td>7.3</td>\n",
       "      <td>14.0</td>\n",
       "      <td>...</td>\n",
       "      <td>703.0</td>\n",
       "      <td>55.0</td>\n",
       "      <td>8.0</td>\n",
       "      <td>27.0</td>\n",
       "      <td>36.0</td>\n",
       "      <td>46.0</td>\n",
       "      <td>216.728121</td>\n",
       "      <td>-1</td>\n",
       "      <td>-0.015932</td>\n",
       "      <td>-14.827149</td>\n",
       "    </tr>\n",
       "    <tr>\n",
       "      <th>2027</th>\n",
       "      <td>-132.780474</td>\n",
       "      <td>Rolette, North Dakota</td>\n",
       "      <td>29.0</td>\n",
       "      <td>5.1</td>\n",
       "      <td>4.5</td>\n",
       "      <td>10.0</td>\n",
       "      <td>38.0</td>\n",
       "      <td>41.0</td>\n",
       "      <td>6.9</td>\n",
       "      <td>34.0</td>\n",
       "      <td>...</td>\n",
       "      <td>29.0</td>\n",
       "      <td>104.0</td>\n",
       "      <td>9.6</td>\n",
       "      <td>21.0</td>\n",
       "      <td>84.0</td>\n",
       "      <td>14.0</td>\n",
       "      <td>742.821948</td>\n",
       "      <td>-1</td>\n",
       "      <td>-0.109250</td>\n",
       "      <td>-14.686742</td>\n",
       "    </tr>\n",
       "    <tr>\n",
       "      <th>1227</th>\n",
       "      <td>-112.185819</td>\n",
       "      <td>Suffolk, Massachusetts</td>\n",
       "      <td>16.0</td>\n",
       "      <td>3.5</td>\n",
       "      <td>3.8</td>\n",
       "      <td>9.0</td>\n",
       "      <td>15.0</td>\n",
       "      <td>21.0</td>\n",
       "      <td>7.6</td>\n",
       "      <td>20.0</td>\n",
       "      <td>...</td>\n",
       "      <td>910.0</td>\n",
       "      <td>46.0</td>\n",
       "      <td>10.4</td>\n",
       "      <td>26.0</td>\n",
       "      <td>41.0</td>\n",
       "      <td>46.0</td>\n",
       "      <td>276.060105</td>\n",
       "      <td>-1</td>\n",
       "      <td>-0.047228</td>\n",
       "      <td>-14.457849</td>\n",
       "    </tr>\n",
       "    <tr>\n",
       "      <th>317</th>\n",
       "      <td>-117.678095</td>\n",
       "      <td>District of Columbia, District of Columbia</td>\n",
       "      <td>13.0</td>\n",
       "      <td>2.8</td>\n",
       "      <td>3.2</td>\n",
       "      <td>10.0</td>\n",
       "      <td>16.0</td>\n",
       "      <td>22.0</td>\n",
       "      <td>8.0</td>\n",
       "      <td>17.0</td>\n",
       "      <td>...</td>\n",
       "      <td>1259.0</td>\n",
       "      <td>58.0</td>\n",
       "      <td>12.7</td>\n",
       "      <td>22.0</td>\n",
       "      <td>34.0</td>\n",
       "      <td>44.0</td>\n",
       "      <td>651.326422</td>\n",
       "      <td>-1</td>\n",
       "      <td>-0.095171</td>\n",
       "      <td>-13.671439</td>\n",
       "    </tr>\n",
       "  </tbody>\n",
       "</table>\n",
       "<p>5 rows × 36 columns</p>\n",
       "</div>"
      ],
      "text/plain": [
       "              GM                                      County  \\\n",
       "1856 -134.587525                          New York, New York   \n",
       "221  -105.391176                   San Francisco, California   \n",
       "2027 -132.780474                       Rolette, North Dakota   \n",
       "1227 -112.185819                      Suffolk, Massachusetts   \n",
       "317  -117.678095  District of Columbia, District of Columbia   \n",
       "\n",
       "      '\\% Reporting Fair/Poor Health'  'Physically Unhealthy Days Per Month'  \\\n",
       "1856                             14.0                                    3.5   \n",
       "221                              11.0                                    3.2   \n",
       "2027                             29.0                                    5.1   \n",
       "1227                             16.0                                    3.5   \n",
       "317                              13.0                                    2.8   \n",
       "\n",
       "      'Mentally Unhealthy Days Per Month'  '\\% Low birth weight births'  \\\n",
       "1856                                  3.5                           9.0   \n",
       "221                                   3.1                           7.0   \n",
       "2027                                  4.5                          10.0   \n",
       "1227                                  3.8                           9.0   \n",
       "317                                   3.2                          10.0   \n",
       "\n",
       "      '\\% Smokers'  '\\% Obese'  'Food Environment Index'  \\\n",
       "1856          13.0        15.0                       7.8   \n",
       "221           12.0        15.0                       7.3   \n",
       "2027          38.0        41.0                       6.9   \n",
       "1227          15.0        21.0                       7.6   \n",
       "317           16.0        22.0                       8.0   \n",
       "\n",
       "      '\\% Physically Inactive'    ...      'Violent Crime Rate'  \\\n",
       "1856                      18.0    ...                     620.0   \n",
       "221                       14.0    ...                     703.0   \n",
       "2027                      34.0    ...                      29.0   \n",
       "1227                      20.0    ...                     910.0   \n",
       "317                       17.0    ...                    1259.0   \n",
       "\n",
       "      'Injury Death Rate'  'Average Daily PM2.5'  \\\n",
       "1856                 32.0                   10.8   \n",
       "221                  55.0                    8.0   \n",
       "2027                104.0                    9.6   \n",
       "1227                 46.0                   10.4   \n",
       "317                  58.0                   12.7   \n",
       "\n",
       "      '\\% Severe Housing Problems'  '\\% Drive Alone'  \\\n",
       "1856                          25.0               6.0   \n",
       "221                           27.0              36.0   \n",
       "2027                          21.0              84.0   \n",
       "1227                          26.0              41.0   \n",
       "317                           22.0              34.0   \n",
       "\n",
       "      '\\% Long Commute - Drives Alone'    km_score  pred_ilf  score_ilf  \\\n",
       "1856                              63.0  155.756157        -1  -0.041613   \n",
       "221                               46.0  216.728121        -1  -0.015932   \n",
       "2027                              14.0  742.821948        -1  -0.109250   \n",
       "1227                              46.0  276.060105        -1  -0.047228   \n",
       "317                               44.0  651.326422        -1  -0.095171   \n",
       "\n",
       "          Beyas  \n",
       "1856 -16.608495  \n",
       "221  -14.827149  \n",
       "2027 -14.686742  \n",
       "1227 -14.457849  \n",
       "317  -13.671439  \n",
       "\n",
       "[5 rows x 36 columns]"
      ]
     },
     "execution_count": 468,
     "metadata": {},
     "output_type": "execute_result"
    }
   ],
   "source": [
    "Data2.sort_values(by='Beyas').head() #based on bayes"
   ]
  },
  {
   "cell_type": "code",
   "execution_count": 477,
   "metadata": {
    "ExecuteTime": {
     "end_time": "2018-04-23T04:05:51.529000Z",
     "start_time": "2018-04-23T04:05:51.495000Z"
    },
    "scrolled": true
   },
   "outputs": [
    {
     "data": {
      "text/html": [
       "<div>\n",
       "<table border=\"1\" class=\"dataframe\">\n",
       "  <thead>\n",
       "    <tr style=\"text-align: right;\">\n",
       "      <th></th>\n",
       "      <th>GM</th>\n",
       "      <th>County</th>\n",
       "      <th>'\\% Reporting Fair/Poor Health'</th>\n",
       "      <th>'Physically Unhealthy Days Per Month'</th>\n",
       "      <th>'Mentally Unhealthy Days Per Month'</th>\n",
       "      <th>'\\% Low birth weight births'</th>\n",
       "      <th>'\\% Smokers'</th>\n",
       "      <th>'\\% Obese'</th>\n",
       "      <th>'Food Environment Index'</th>\n",
       "      <th>'\\% Physically Inactive'</th>\n",
       "      <th>...</th>\n",
       "      <th>'Violent Crime Rate'</th>\n",
       "      <th>'Injury Death Rate'</th>\n",
       "      <th>'Average Daily PM2.5'</th>\n",
       "      <th>'\\% Severe Housing Problems'</th>\n",
       "      <th>'\\% Drive Alone'</th>\n",
       "      <th>'\\% Long Commute - Drives Alone'</th>\n",
       "      <th>km_score</th>\n",
       "      <th>pred_ilf</th>\n",
       "      <th>score_ilf</th>\n",
       "      <th>Beyas</th>\n",
       "    </tr>\n",
       "  </thead>\n",
       "  <tbody>\n",
       "    <tr>\n",
       "      <th>493</th>\n",
       "      <td>-93.111210</td>\n",
       "      <td>Oglethorpe, Georgia</td>\n",
       "      <td>15.0</td>\n",
       "      <td>3.5</td>\n",
       "      <td>3.6</td>\n",
       "      <td>8.0</td>\n",
       "      <td>15.0</td>\n",
       "      <td>30.0</td>\n",
       "      <td>7.8</td>\n",
       "      <td>27.0</td>\n",
       "      <td>...</td>\n",
       "      <td>384.0</td>\n",
       "      <td>65.0</td>\n",
       "      <td>13.1</td>\n",
       "      <td>10.0</td>\n",
       "      <td>85.0</td>\n",
       "      <td>43.0</td>\n",
       "      <td>241.425015</td>\n",
       "      <td>1</td>\n",
       "      <td>0.112685</td>\n",
       "      <td>-4.537242</td>\n",
       "    </tr>\n",
       "    <tr>\n",
       "      <th>1139</th>\n",
       "      <td>-91.079255</td>\n",
       "      <td>Lafourche, Louisiana</td>\n",
       "      <td>19.0</td>\n",
       "      <td>4.0</td>\n",
       "      <td>3.9</td>\n",
       "      <td>9.0</td>\n",
       "      <td>20.0</td>\n",
       "      <td>36.0</td>\n",
       "      <td>7.7</td>\n",
       "      <td>34.0</td>\n",
       "      <td>...</td>\n",
       "      <td>171.0</td>\n",
       "      <td>70.0</td>\n",
       "      <td>11.9</td>\n",
       "      <td>14.0</td>\n",
       "      <td>78.0</td>\n",
       "      <td>36.0</td>\n",
       "      <td>180.668972</td>\n",
       "      <td>1</td>\n",
       "      <td>0.113373</td>\n",
       "      <td>-4.428545</td>\n",
       "    </tr>\n",
       "    <tr>\n",
       "      <th>1539</th>\n",
       "      <td>-93.866323</td>\n",
       "      <td>Livingston, Missouri</td>\n",
       "      <td>15.0</td>\n",
       "      <td>3.9</td>\n",
       "      <td>3.8</td>\n",
       "      <td>8.0</td>\n",
       "      <td>20.0</td>\n",
       "      <td>28.0</td>\n",
       "      <td>7.3</td>\n",
       "      <td>29.0</td>\n",
       "      <td>...</td>\n",
       "      <td>180.0</td>\n",
       "      <td>62.0</td>\n",
       "      <td>9.3</td>\n",
       "      <td>12.0</td>\n",
       "      <td>82.0</td>\n",
       "      <td>17.0</td>\n",
       "      <td>176.090298</td>\n",
       "      <td>1</td>\n",
       "      <td>0.112747</td>\n",
       "      <td>-4.379692</td>\n",
       "    </tr>\n",
       "    <tr>\n",
       "      <th>1745</th>\n",
       "      <td>-90.952950</td>\n",
       "      <td>Churchill, Nevada</td>\n",
       "      <td>17.0</td>\n",
       "      <td>4.2</td>\n",
       "      <td>3.8</td>\n",
       "      <td>7.0</td>\n",
       "      <td>18.0</td>\n",
       "      <td>29.0</td>\n",
       "      <td>7.1</td>\n",
       "      <td>24.0</td>\n",
       "      <td>...</td>\n",
       "      <td>190.0</td>\n",
       "      <td>87.0</td>\n",
       "      <td>12.7</td>\n",
       "      <td>11.0</td>\n",
       "      <td>82.0</td>\n",
       "      <td>12.0</td>\n",
       "      <td>90.387269</td>\n",
       "      <td>1</td>\n",
       "      <td>0.110915</td>\n",
       "      <td>-2.861787</td>\n",
       "    </tr>\n",
       "  </tbody>\n",
       "</table>\n",
       "<p>4 rows × 36 columns</p>\n",
       "</div>"
      ],
      "text/plain": [
       "             GM                County  '\\% Reporting Fair/Poor Health'  \\\n",
       "493  -93.111210   Oglethorpe, Georgia                             15.0   \n",
       "1139 -91.079255  Lafourche, Louisiana                             19.0   \n",
       "1539 -93.866323  Livingston, Missouri                             15.0   \n",
       "1745 -90.952950     Churchill, Nevada                             17.0   \n",
       "\n",
       "      'Physically Unhealthy Days Per Month'  \\\n",
       "493                                     3.5   \n",
       "1139                                    4.0   \n",
       "1539                                    3.9   \n",
       "1745                                    4.2   \n",
       "\n",
       "      'Mentally Unhealthy Days Per Month'  '\\% Low birth weight births'  \\\n",
       "493                                   3.6                           8.0   \n",
       "1139                                  3.9                           9.0   \n",
       "1539                                  3.8                           8.0   \n",
       "1745                                  3.8                           7.0   \n",
       "\n",
       "      '\\% Smokers'  '\\% Obese'  'Food Environment Index'  \\\n",
       "493           15.0        30.0                       7.8   \n",
       "1139          20.0        36.0                       7.7   \n",
       "1539          20.0        28.0                       7.3   \n",
       "1745          18.0        29.0                       7.1   \n",
       "\n",
       "      '\\% Physically Inactive'    ...     'Violent Crime Rate'  \\\n",
       "493                       27.0    ...                    384.0   \n",
       "1139                      34.0    ...                    171.0   \n",
       "1539                      29.0    ...                    180.0   \n",
       "1745                      24.0    ...                    190.0   \n",
       "\n",
       "      'Injury Death Rate'  'Average Daily PM2.5'  \\\n",
       "493                  65.0                   13.1   \n",
       "1139                 70.0                   11.9   \n",
       "1539                 62.0                    9.3   \n",
       "1745                 87.0                   12.7   \n",
       "\n",
       "      '\\% Severe Housing Problems'  '\\% Drive Alone'  \\\n",
       "493                           10.0              85.0   \n",
       "1139                          14.0              78.0   \n",
       "1539                          12.0              82.0   \n",
       "1745                          11.0              82.0   \n",
       "\n",
       "      '\\% Long Commute - Drives Alone'    km_score  pred_ilf  score_ilf  \\\n",
       "493                               43.0  241.425015         1   0.112685   \n",
       "1139                              36.0  180.668972         1   0.113373   \n",
       "1539                              17.0  176.090298         1   0.112747   \n",
       "1745                              12.0   90.387269         1   0.110915   \n",
       "\n",
       "         Beyas  \n",
       "493  -4.537242  \n",
       "1139 -4.428545  \n",
       "1539 -4.379692  \n",
       "1745 -2.861787  \n",
       "\n",
       "[4 rows x 36 columns]"
      ]
     },
     "execution_count": 477,
     "metadata": {},
     "output_type": "execute_result"
    }
   ],
   "source": [
    "Data2[(Data2['GM']*Data2['Beyas']*Data2['score_ilf']>0)&(Data2['GM']<-90)&(Data2['score_ilf']>0.11)]"
   ]
  },
  {
   "cell_type": "markdown",
   "metadata": {},
   "source": [
    "## We can see that there are some counties above found to be anomalous in GM model but not in isolation forest model"
   ]
  },
  {
   "cell_type": "code",
   "execution_count": 481,
   "metadata": {
    "ExecuteTime": {
     "end_time": "2018-04-23T04:08:34.681000Z",
     "start_time": "2018-04-23T04:08:34.664000Z"
    }
   },
   "outputs": [
    {
     "data": {
      "text/plain": [
       "{2027, 2415}"
      ]
     },
     "execution_count": 481,
     "metadata": {},
     "output_type": "execute_result"
    }
   ],
   "source": [
    "set(Data2.sort_values(by='GM').index[:20]) & set(Data2.sort_values(by='score_ilf',ascending=True).index[:20]) & set(Data2.sort_values(by='km_score',ascending=False).index[:20]) & set(Data2.sort_values(by='Beyas').index[:100])"
   ]
  },
  {
   "cell_type": "code",
   "execution_count": 480,
   "metadata": {
    "ExecuteTime": {
     "end_time": "2018-04-23T04:06:34.332000Z",
     "start_time": "2018-04-23T04:06:34.296000Z"
    }
   },
   "outputs": [
    {
     "data": {
      "text/html": [
       "<div>\n",
       "<table border=\"1\" class=\"dataframe\">\n",
       "  <thead>\n",
       "    <tr style=\"text-align: right;\">\n",
       "      <th></th>\n",
       "      <th>GM</th>\n",
       "      <th>County</th>\n",
       "      <th>'\\% Reporting Fair/Poor Health'</th>\n",
       "      <th>'Physically Unhealthy Days Per Month'</th>\n",
       "      <th>'Mentally Unhealthy Days Per Month'</th>\n",
       "      <th>'\\% Low birth weight births'</th>\n",
       "      <th>'\\% Smokers'</th>\n",
       "      <th>'\\% Obese'</th>\n",
       "      <th>'Food Environment Index'</th>\n",
       "      <th>'\\% Physically Inactive'</th>\n",
       "      <th>...</th>\n",
       "      <th>'Violent Crime Rate'</th>\n",
       "      <th>'Injury Death Rate'</th>\n",
       "      <th>'Average Daily PM2.5'</th>\n",
       "      <th>'\\% Severe Housing Problems'</th>\n",
       "      <th>'\\% Drive Alone'</th>\n",
       "      <th>'\\% Long Commute - Drives Alone'</th>\n",
       "      <th>km_score</th>\n",
       "      <th>pred_ilf</th>\n",
       "      <th>score_ilf</th>\n",
       "      <th>Beyas</th>\n",
       "    </tr>\n",
       "  </thead>\n",
       "  <tbody>\n",
       "    <tr>\n",
       "      <th>2027</th>\n",
       "      <td>-132.780474</td>\n",
       "      <td>Rolette, North Dakota</td>\n",
       "      <td>29.0</td>\n",
       "      <td>5.1</td>\n",
       "      <td>4.5</td>\n",
       "      <td>10.0</td>\n",
       "      <td>38.0</td>\n",
       "      <td>41.0</td>\n",
       "      <td>6.9</td>\n",
       "      <td>34.0</td>\n",
       "      <td>...</td>\n",
       "      <td>29.0</td>\n",
       "      <td>104.0</td>\n",
       "      <td>9.6</td>\n",
       "      <td>21.0</td>\n",
       "      <td>84.0</td>\n",
       "      <td>14.0</td>\n",
       "      <td>742.821948</td>\n",
       "      <td>-1</td>\n",
       "      <td>-0.109250</td>\n",
       "      <td>-14.686742</td>\n",
       "    </tr>\n",
       "    <tr>\n",
       "      <th>2415</th>\n",
       "      <td>-213.093594</td>\n",
       "      <td>Shannon, South Dakota</td>\n",
       "      <td>33.0</td>\n",
       "      <td>5.9</td>\n",
       "      <td>4.7</td>\n",
       "      <td>7.0</td>\n",
       "      <td>41.0</td>\n",
       "      <td>45.0</td>\n",
       "      <td>1.6</td>\n",
       "      <td>24.0</td>\n",
       "      <td>...</td>\n",
       "      <td>0.0</td>\n",
       "      <td>200.0</td>\n",
       "      <td>11.8</td>\n",
       "      <td>44.0</td>\n",
       "      <td>64.0</td>\n",
       "      <td>22.0</td>\n",
       "      <td>1970.018443</td>\n",
       "      <td>-1</td>\n",
       "      <td>-0.188819</td>\n",
       "      <td>-10.856363</td>\n",
       "    </tr>\n",
       "  </tbody>\n",
       "</table>\n",
       "<p>2 rows × 36 columns</p>\n",
       "</div>"
      ],
      "text/plain": [
       "              GM                 County  '\\% Reporting Fair/Poor Health'  \\\n",
       "2027 -132.780474  Rolette, North Dakota                             29.0   \n",
       "2415 -213.093594  Shannon, South Dakota                             33.0   \n",
       "\n",
       "      'Physically Unhealthy Days Per Month'  \\\n",
       "2027                                    5.1   \n",
       "2415                                    5.9   \n",
       "\n",
       "      'Mentally Unhealthy Days Per Month'  '\\% Low birth weight births'  \\\n",
       "2027                                  4.5                          10.0   \n",
       "2415                                  4.7                           7.0   \n",
       "\n",
       "      '\\% Smokers'  '\\% Obese'  'Food Environment Index'  \\\n",
       "2027          38.0        41.0                       6.9   \n",
       "2415          41.0        45.0                       1.6   \n",
       "\n",
       "      '\\% Physically Inactive'    ...      'Violent Crime Rate'  \\\n",
       "2027                      34.0    ...                      29.0   \n",
       "2415                      24.0    ...                       0.0   \n",
       "\n",
       "      'Injury Death Rate'  'Average Daily PM2.5'  \\\n",
       "2027                104.0                    9.6   \n",
       "2415                200.0                   11.8   \n",
       "\n",
       "      '\\% Severe Housing Problems'  '\\% Drive Alone'  \\\n",
       "2027                          21.0              84.0   \n",
       "2415                          44.0              64.0   \n",
       "\n",
       "      '\\% Long Commute - Drives Alone'     km_score  pred_ilf  score_ilf  \\\n",
       "2027                              14.0   742.821948        -1  -0.109250   \n",
       "2415                              22.0  1970.018443        -1  -0.188819   \n",
       "\n",
       "          Beyas  \n",
       "2027 -14.686742  \n",
       "2415 -10.856363  \n",
       "\n",
       "[2 rows x 36 columns]"
      ]
     },
     "execution_count": 480,
     "metadata": {},
     "output_type": "execute_result"
    }
   ],
   "source": [
    "Data2.loc[[2027,2415]]"
   ]
  },
  {
   "cell_type": "markdown",
   "metadata": {},
   "source": [
    "## These two counties were found to be anomalous in all of the three models. After observation, I found that their [Reporting Fair/Poor Health], [Physically Unhealthy Days Per Month], [% Smokers], [% Obese], [Injury Death Rate], [Severe Housing Problems] are relatively high and their [Violent Crime Rate], [Long Commute Drives Alone] are relatively low"
   ]
  }
 ],
 "metadata": {
  "anaconda-cloud": {},
  "kernelspec": {
   "display_name": "Python 2",
   "language": "python",
   "name": "python2"
  },
  "language_info": {
   "codemirror_mode": {
    "name": "ipython",
    "version": 2
   },
   "file_extension": ".py",
   "mimetype": "text/x-python",
   "name": "python",
   "nbconvert_exporter": "python",
   "pygments_lexer": "ipython2",
   "version": "2.7.14"
  },
  "varInspector": {
   "cols": {
    "lenName": 16,
    "lenType": 16,
    "lenVar": 40
   },
   "kernels_config": {
    "python": {
     "delete_cmd_postfix": "",
     "delete_cmd_prefix": "del ",
     "library": "var_list.py",
     "varRefreshCmd": "print(var_dic_list())"
    },
    "r": {
     "delete_cmd_postfix": ") ",
     "delete_cmd_prefix": "rm(",
     "library": "var_list.r",
     "varRefreshCmd": "cat(var_dic_list()) "
    }
   },
   "types_to_exclude": [
    "module",
    "function",
    "builtin_function_or_method",
    "instance",
    "_Feature"
   ],
   "window_display": false
  }
 },
 "nbformat": 4,
 "nbformat_minor": 1
}
